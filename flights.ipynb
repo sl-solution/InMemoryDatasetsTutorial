{
 "cells": [
  {
   "cell_type": "markdown",
   "metadata": {},
   "source": [
    "## Getting and loading the data "
   ]
  },
  {
   "cell_type": "code",
   "execution_count": 1,
   "metadata": {},
   "outputs": [
    {
     "data": {
      "text/plain": [
       "250"
      ]
     },
     "execution_count": 1,
     "metadata": {},
     "output_type": "execute_result"
    }
   ],
   "source": [
    "# control the page size for printing data\n",
    "ENV[\"LINES\"] = 10\n",
    "ENV[\"COLUMNS\"] = 250"
   ]
  },
  {
   "cell_type": "markdown",
   "metadata": {},
   "source": [
    "We use the `DLMReader` package to load a csv file into `InMemoryDatasets`, `DLMReader` is a high-performance and versatile package for reading delimited files into `InMemoryDatasets` (there are many alternative packages in Julia ecosystem, users can use any of them to read data into `InMemoryDatasets`):"
   ]
  },
  {
   "cell_type": "code",
   "execution_count": 2,
   "metadata": {},
   "outputs": [],
   "source": [
    "using InMemoryDatasets\n",
    "using DLMReader\n",
    "using PooledArrays\n",
    "import Downloads"
   ]
  },
  {
   "cell_type": "markdown",
   "metadata": {},
   "source": [
    "Download the required csv file from internet."
   ]
  },
  {
   "cell_type": "code",
   "execution_count": 3,
   "metadata": {},
   "outputs": [],
   "source": [
    "_tmp = Downloads.download(\"https://raw.githubusercontent.com/sl-solution/InMemoryDatasetsTutorial/main/CA_flights.csv\");"
   ]
  },
  {
   "cell_type": "markdown",
   "metadata": {},
   "source": [
    "Loading data into InMemoryDatasets:"
   ]
  },
  {
   "cell_type": "code",
   "execution_count": 4,
   "metadata": {},
   "outputs": [],
   "source": [
    "flights = filereader(_tmp, dtformat = Dict(1=>dateformat\"y-m-d\"));"
   ]
  },
  {
   "cell_type": "markdown",
   "metadata": {},
   "source": [
    "Convert string columns to `PooledArray`. This is a good practice when the string column only contains few unique values. Here we use `modify!` function to modify a data set. We discuss the `modify!` function later."
   ]
  },
  {
   "cell_type": "code",
   "execution_count": 5,
   "metadata": {},
   "outputs": [
    {
     "data": {
      "text/html": [
       "<table class=\"data-set\"><thead><tr><th></th><th>FlightDate</th><th>IATA</th><th>Tail_Number</th><th>Flight_Number</th><th>Origin</th><th>Dest</th><th>TaxiOut</th><th>TaxiIn</th><th>DepDelay</th><th>ArrDelay</th><th>DepTime</th><th>ArrTime</th><th>AirTime</th><th>Cancelled</th><th>CancellationCode</th><th>Distance</th></tr><tr><th></th><th>identity</th><th>identity</th><th>identity</th><th>identity</th><th>identity</th><th>identity</th><th>identity</th><th>identity</th><th>identity</th><th>identity</th><th>identity</th><th>identity</th><th>identity</th><th>identity</th><th>identity</th><th>identity</th></tr><tr><th></th><th title=\"Union{Missing, Date}\">Date?</th><th title=\"Union{Missing, String}\">String?</th><th title=\"Union{Missing, String}\">String?</th><th title=\"Union{Missing, Int64}\">Int64?</th><th title=\"Union{Missing, String}\">String?</th><th title=\"Union{Missing, String}\">String?</th><th title=\"Union{Missing, Float64}\">Float64?</th><th title=\"Union{Missing, Float64}\">Float64?</th><th title=\"Union{Missing, Float64}\">Float64?</th><th title=\"Union{Missing, Float64}\">Float64?</th><th title=\"Union{Missing, Int64}\">Int64?</th><th title=\"Union{Missing, Int64}\">Int64?</th><th title=\"Union{Missing, Float64}\">Float64?</th><th title=\"Union{Missing, Float64}\">Float64?</th><th title=\"Union{Missing, String}\">String?</th><th title=\"Union{Missing, Float64}\">Float64?</th></tr></thead><tbody><p>467,402 rows × 16 columns</p><tr><th>1</th><td>2020-01-01</td><td>B6</td><td>N947JB</td><td>988</td><td>LAX</td><td>BOS</td><td>26.0</td><td>14.0</td><td>-5.0</td><td>-2.0</td><td>2354</td><td>820</td><td>286.0</td><td>0.0</td><td><em>missing</em></td><td>2611.0</td></tr><tr><th>2</th><td>2020-01-02</td><td>B6</td><td>N987JT</td><td>988</td><td>LAX</td><td>BOS</td><td>16.0</td><td>9.0</td><td>-14.0</td><td>-25.0</td><td>2345</td><td>757</td><td>287.0</td><td>0.0</td><td><em>missing</em></td><td>2611.0</td></tr><tr><th>3</th><td>2020-01-03</td><td>B6</td><td>N986JB</td><td>988</td><td>LAX</td><td>BOS</td><td>24.0</td><td>17.0</td><td>-9.0</td><td>3.0</td><td>2350</td><td>825</td><td>294.0</td><td>0.0</td><td><em>missing</em></td><td>2611.0</td></tr><tr><th>4</th><td>2020-01-04</td><td>B6</td><td>N964JT</td><td>988</td><td>LAX</td><td>BOS</td><td>16.0</td><td>1.0</td><td>1.0</td><td>-28.0</td><td>2400</td><td>754</td><td>277.0</td><td>0.0</td><td><em>missing</em></td><td>2611.0</td></tr><tr><th>5</th><td>2020-01-05</td><td>B6</td><td>N981JT</td><td>988</td><td>LAX</td><td>BOS</td><td>22.0</td><td>8.0</td><td>-4.0</td><td>-25.0</td><td>2355</td><td>757</td><td>272.0</td><td>0.0</td><td><em>missing</em></td><td>2611.0</td></tr><tr><th>6</th><td>2020-01-06</td><td>B6</td><td>N961JT</td><td>988</td><td>LAX</td><td>BOS</td><td>22.0</td><td>11.0</td><td>-2.0</td><td>-7.0</td><td>2357</td><td>815</td><td>285.0</td><td>0.0</td><td><em>missing</em></td><td>2611.0</td></tr><tr><th>7</th><td>2020-01-07</td><td>B6</td><td>N935JB</td><td>988</td><td>LAX</td><td>BOS</td><td>20.0</td><td>2.0</td><td>-9.0</td><td>-23.0</td><td>2350</td><td>759</td><td>287.0</td><td>0.0</td><td><em>missing</em></td><td>2611.0</td></tr><tr><th>8</th><td>2020-01-08</td><td>B6</td><td>N947JB</td><td>988</td><td>LAX</td><td>BOS</td><td>11.0</td><td>8.0</td><td>-14.0</td><td>-23.0</td><td>2345</td><td>759</td><td>295.0</td><td>0.0</td><td><em>missing</em></td><td>2611.0</td></tr><tr><th>9</th><td>2020-01-09</td><td>B6</td><td>N980JT</td><td>988</td><td>LAX</td><td>BOS</td><td>13.0</td><td>15.0</td><td>-6.0</td><td>-13.0</td><td>2149</td><td>604</td><td>287.0</td><td>0.0</td><td><em>missing</em></td><td>2611.0</td></tr><tr><th>10</th><td>2020-01-10</td><td>B6</td><td>N968JT</td><td>988</td><td>LAX</td><td>BOS</td><td>17.0</td><td>6.0</td><td>-3.0</td><td>-11.0</td><td>2152</td><td>606</td><td>291.0</td><td>0.0</td><td><em>missing</em></td><td>2611.0</td></tr><tr><th>&vellip;</th><td>&vellip;</td><td>&vellip;</td><td>&vellip;</td><td>&vellip;</td><td>&vellip;</td><td>&vellip;</td><td>&vellip;</td><td>&vellip;</td><td>&vellip;</td><td>&vellip;</td><td>&vellip;</td><td>&vellip;</td><td>&vellip;</td><td>&vellip;</td><td>&vellip;</td><td>&vellip;</td></tr></tbody></table>"
      ],
      "text/latex": [
       "\\begin{tabular}{r|cccccccccccccccc}\n",
       "\t& FlightDate & IATA & Tail\\_Number & Flight\\_Number & Origin & Dest & TaxiOut & TaxiIn & DepDelay & ArrDelay & DepTime & ArrTime & AirTime & Cancelled & CancellationCode & Distance\\\\\n",
       "\t\\hline\n",
       "\t& identity & identity & identity & identity & identity & identity & identity & identity & identity & identity & identity & identity & identity & identity & identity & identity\\\\\n",
       "\t\\hline\n",
       "\t& Date? & String? & String? & Int64? & String? & String? & Float64? & Float64? & Float64? & Float64? & Int64? & Int64? & Float64? & Float64? & String? & Float64?\\\\\n",
       "\t\\hline\n",
       "\t1 & 2020-01-01 & B6 & N947JB & 988 & LAX & BOS & 26.0 & 14.0 & -5.0 & -2.0 & 2354 & 820 & 286.0 & 0.0 & \\emph{missing} & 2611.0 \\\\\n",
       "\t2 & 2020-01-02 & B6 & N987JT & 988 & LAX & BOS & 16.0 & 9.0 & -14.0 & -25.0 & 2345 & 757 & 287.0 & 0.0 & \\emph{missing} & 2611.0 \\\\\n",
       "\t3 & 2020-01-03 & B6 & N986JB & 988 & LAX & BOS & 24.0 & 17.0 & -9.0 & 3.0 & 2350 & 825 & 294.0 & 0.0 & \\emph{missing} & 2611.0 \\\\\n",
       "\t4 & 2020-01-04 & B6 & N964JT & 988 & LAX & BOS & 16.0 & 1.0 & 1.0 & -28.0 & 2400 & 754 & 277.0 & 0.0 & \\emph{missing} & 2611.0 \\\\\n",
       "\t5 & 2020-01-05 & B6 & N981JT & 988 & LAX & BOS & 22.0 & 8.0 & -4.0 & -25.0 & 2355 & 757 & 272.0 & 0.0 & \\emph{missing} & 2611.0 \\\\\n",
       "\t6 & 2020-01-06 & B6 & N961JT & 988 & LAX & BOS & 22.0 & 11.0 & -2.0 & -7.0 & 2357 & 815 & 285.0 & 0.0 & \\emph{missing} & 2611.0 \\\\\n",
       "\t7 & 2020-01-07 & B6 & N935JB & 988 & LAX & BOS & 20.0 & 2.0 & -9.0 & -23.0 & 2350 & 759 & 287.0 & 0.0 & \\emph{missing} & 2611.0 \\\\\n",
       "\t8 & 2020-01-08 & B6 & N947JB & 988 & LAX & BOS & 11.0 & 8.0 & -14.0 & -23.0 & 2345 & 759 & 295.0 & 0.0 & \\emph{missing} & 2611.0 \\\\\n",
       "\t9 & 2020-01-09 & B6 & N980JT & 988 & LAX & BOS & 13.0 & 15.0 & -6.0 & -13.0 & 2149 & 604 & 287.0 & 0.0 & \\emph{missing} & 2611.0 \\\\\n",
       "\t10 & 2020-01-10 & B6 & N968JT & 988 & LAX & BOS & 17.0 & 6.0 & -3.0 & -11.0 & 2152 & 606 & 291.0 & 0.0 & \\emph{missing} & 2611.0 \\\\\n",
       "\t$\\dots$ & $\\dots$ & $\\dots$ & $\\dots$ & $\\dots$ & $\\dots$ & $\\dots$ & $\\dots$ & $\\dots$ & $\\dots$ & $\\dots$ & $\\dots$ & $\\dots$ & $\\dots$ & $\\dots$ & $\\dots$ & $\\dots$ \\\\\n",
       "\\end{tabular}\n"
      ],
      "text/plain": [
       "\u001b[1m467402×16 Dataset\u001b[0m\n",
       "\u001b[1m    Row \u001b[0m│\u001b[1m FlightDate \u001b[0m\u001b[1m IATA     \u001b[0m\u001b[1m Tail_Number \u001b[0m\u001b[1m Flight_Number \u001b[0m\u001b[1m Origin   \u001b[0m\u001b[1m Dest     \u001b[0m\u001b[1m TaxiOut  \u001b[0m\u001b[1m TaxiIn   \u001b[0m\u001b[1m DepDelay \u001b[0m\u001b[1m ArrDelay \u001b[0m\u001b[1m DepTime  \u001b[0m\u001b[1m ArrTime  \u001b[0m\u001b[1m AirTime  \u001b[0m\u001b[1m Cancelled \u001b[0m\u001b[1m CancellationCode \u001b[0m\u001b[1m Distance \u001b[0m\n",
       "        │\u001b[90m identity   \u001b[0m\u001b[90m identity \u001b[0m\u001b[90m identity    \u001b[0m\u001b[90m identity      \u001b[0m\u001b[90m identity \u001b[0m\u001b[90m identity \u001b[0m\u001b[90m identity \u001b[0m\u001b[90m identity \u001b[0m\u001b[90m identity \u001b[0m\u001b[90m identity \u001b[0m\u001b[90m identity \u001b[0m\u001b[90m identity \u001b[0m\u001b[90m identity \u001b[0m\u001b[90m identity  \u001b[0m\u001b[90m identity         \u001b[0m\u001b[90m identity \u001b[0m\n",
       "        │\u001b[90m Date?      \u001b[0m\u001b[90m String?  \u001b[0m\u001b[90m String?     \u001b[0m\u001b[90m Int64?        \u001b[0m\u001b[90m String?  \u001b[0m\u001b[90m String?  \u001b[0m\u001b[90m Float64? \u001b[0m\u001b[90m Float64? \u001b[0m\u001b[90m Float64? \u001b[0m\u001b[90m Float64? \u001b[0m\u001b[90m Int64?   \u001b[0m\u001b[90m Int64?   \u001b[0m\u001b[90m Float64? \u001b[0m\u001b[90m Float64?  \u001b[0m\u001b[90m String?          \u001b[0m\u001b[90m Float64? \u001b[0m\n",
       "────────┼───────────────────────────────────────────────────────────────────────────────────────────────────────────────────────────────────────────────────────────────────────────────────\n",
       "   ⋮    │     ⋮          ⋮           ⋮             ⋮           ⋮         ⋮         ⋮         ⋮         ⋮         ⋮         ⋮         ⋮         ⋮          ⋮             ⋮             ⋮\n",
       "\u001b[36m                                                                                                                                                                         467402 rows omitted\u001b[0m"
      ]
     },
     "execution_count": 5,
     "metadata": {},
     "output_type": "execute_result"
    }
   ],
   "source": [
    "modify!(flights, [:IATA, :Tail_Number, :Origin, :Dest, :CancellationCode] => PooledArray)"
   ]
  },
  {
   "cell_type": "markdown",
   "metadata": {},
   "source": [
    "Attach a meta information to `flights`:"
   ]
  },
  {
   "cell_type": "code",
   "execution_count": 6,
   "metadata": {},
   "outputs": [],
   "source": [
    "setinfo!(flights, \"Reporting Carrier On-Time Performance for all flights in 2020 from CA.\n",
    "    Downloaded from www.transtats.bts.gov\");"
   ]
  },
  {
   "cell_type": "markdown",
   "metadata": {},
   "source": [
    "## Filtering the data"
   ]
  },
  {
   "cell_type": "markdown",
   "metadata": {},
   "source": [
    "In order to select only rows matching certain criteria, use the `filter` function. Note that for referring to a single column in a data set, we can use the column name (a Symbol), the column name as String, or the column index"
   ]
  },
  {
   "cell_type": "code",
   "execution_count": 7,
   "metadata": {},
   "outputs": [
    {
     "data": {
      "text/html": [
       "<table class=\"data-set\"><thead><tr><th></th><th>FlightDate</th><th>IATA</th><th>Tail_Number</th><th>Flight_Number</th><th>Origin</th><th>Dest</th><th>TaxiOut</th><th>TaxiIn</th><th>DepDelay</th><th>ArrDelay</th><th>DepTime</th><th>ArrTime</th><th>AirTime</th><th>Cancelled</th><th>CancellationCode</th><th>Distance</th></tr><tr><th></th><th>identity</th><th>identity</th><th>identity</th><th>identity</th><th>identity</th><th>identity</th><th>identity</th><th>identity</th><th>identity</th><th>identity</th><th>identity</th><th>identity</th><th>identity</th><th>identity</th><th>identity</th><th>identity</th></tr><tr><th></th><th title=\"Union{Missing, Date}\">Date?</th><th title=\"Union{Missing, String}\">String?</th><th title=\"Union{Missing, String}\">String?</th><th title=\"Union{Missing, Int64}\">Int64?</th><th title=\"Union{Missing, String}\">String?</th><th title=\"Union{Missing, String}\">String?</th><th title=\"Union{Missing, Float64}\">Float64?</th><th title=\"Union{Missing, Float64}\">Float64?</th><th title=\"Union{Missing, Float64}\">Float64?</th><th title=\"Union{Missing, Float64}\">Float64?</th><th title=\"Union{Missing, Int64}\">Int64?</th><th title=\"Union{Missing, Int64}\">Int64?</th><th title=\"Union{Missing, Float64}\">Float64?</th><th title=\"Union{Missing, Float64}\">Float64?</th><th title=\"Union{Missing, String}\">String?</th><th title=\"Union{Missing, Float64}\">Float64?</th></tr></thead><tbody><p>2,227 rows × 16 columns</p><p><b> SubDataset (view of Dataset)</p><tr><th>1</th><td>2020-01-01</td><td>B6</td><td>N947JB</td><td>988</td><td>LAX</td><td>BOS</td><td>26.0</td><td>14.0</td><td>-5.0</td><td>-2.0</td><td>2354</td><td>820</td><td>286.0</td><td>0.0</td><td><em>missing</em></td><td>2611.0</td></tr><tr><th>2</th><td>2020-01-01</td><td>B6</td><td>N712JB</td><td>1006</td><td>LGB</td><td>SEA</td><td>10.0</td><td>8.0</td><td>-8.0</td><td>5.0</td><td>1712</td><td>2016</td><td>166.0</td><td>0.0</td><td><em>missing</em></td><td>965.0</td></tr><tr><th>3</th><td>2020-01-01</td><td>B6</td><td>N624JB</td><td>1136</td><td>LGB</td><td>SFO</td><td>29.0</td><td>4.0</td><td>-9.0</td><td>-9.0</td><td>636</td><td>810</td><td>61.0</td><td>0.0</td><td><em>missing</em></td><td>354.0</td></tr><tr><th>4</th><td>2020-01-01</td><td>B6</td><td>N712JB</td><td>1166</td><td>LGB</td><td>SMF</td><td>13.0</td><td>9.0</td><td>-9.0</td><td>2.0</td><td>1247</td><td>1422</td><td>73.0</td><td>0.0</td><td><em>missing</em></td><td>387.0</td></tr><tr><th>5</th><td>2020-01-01</td><td>B6</td><td>N985JT</td><td>2800</td><td>LAX</td><td>FLL</td><td>20.0</td><td>6.0</td><td>20.0</td><td>17.0</td><td>1515</td><td>2302</td><td>261.0</td><td>0.0</td><td><em>missing</em></td><td>2343.0</td></tr><tr><th>6</th><td>2020-01-01</td><td>B6</td><td>N991JT</td><td>1224</td><td>LAX</td><td>JFK</td><td>17.0</td><td>5.0</td><td>-5.0</td><td>-7.0</td><td>2021</td><td>433</td><td>290.0</td><td>0.0</td><td><em>missing</em></td><td>2475.0</td></tr><tr><th>7</th><td>2020-01-01</td><td>B6</td><td>N624JB</td><td>1235</td><td>SFO</td><td>LGB</td><td>18.0</td><td>3.0</td><td>-10.0</td><td>-23.0</td><td>849</td><td>1005</td><td>55.0</td><td>0.0</td><td><em>missing</em></td><td>354.0</td></tr><tr><th>8</th><td>2020-01-01</td><td>B6</td><td>N624JB</td><td>1416</td><td>LGB</td><td>AUS</td><td>10.0</td><td>16.0</td><td>7.0</td><td>16.0</td><td>1120</td><td>1614</td><td>148.0</td><td>0.0</td><td><em>missing</em></td><td>1226.0</td></tr><tr><th>9</th><td>2020-01-01</td><td>B6</td><td>N977JE</td><td>1424</td><td>LAX</td><td>JFK</td><td>29.0</td><td>5.0</td><td>19.0</td><td>22.0</td><td>2337</td><td>759</td><td>288.0</td><td>0.0</td><td><em>missing</em></td><td>2475.0</td></tr><tr><th>10</th><td>2020-01-01</td><td>B6</td><td>N934JB</td><td>1516</td><td>SFO</td><td>JFK</td><td>20.0</td><td>8.0</td><td>-6.0</td><td>-13.0</td><td>2353</td><td>810</td><td>289.0</td><td>0.0</td><td><em>missing</em></td><td>2586.0</td></tr><tr><th>&vellip;</th><td>&vellip;</td><td>&vellip;</td><td>&vellip;</td><td>&vellip;</td><td>&vellip;</td><td>&vellip;</td><td>&vellip;</td><td>&vellip;</td><td>&vellip;</td><td>&vellip;</td><td>&vellip;</td><td>&vellip;</td><td>&vellip;</td><td>&vellip;</td><td>&vellip;</td><td>&vellip;</td></tr></tbody></table>"
      ],
      "text/latex": [
       "\\begin{tabular}{r|cccccccccccccccc}\n",
       "\t& FlightDate & IATA & Tail\\_Number & Flight\\_Number & Origin & Dest & TaxiOut & TaxiIn & DepDelay & ArrDelay & DepTime & ArrTime & AirTime & Cancelled & CancellationCode & Distance\\\\\n",
       "\t\\hline\n",
       "\t& identity & identity & identity & identity & identity & identity & identity & identity & identity & identity & identity & identity & identity & identity & identity & identity\\\\\n",
       "\t\\hline\n",
       "\t& Date? & String? & String? & Int64? & String? & String? & Float64? & Float64? & Float64? & Float64? & Int64? & Int64? & Float64? & Float64? & String? & Float64?\\\\\n",
       "\t\\hline\n",
       "\t1 & 2020-01-01 & B6 & N947JB & 988 & LAX & BOS & 26.0 & 14.0 & -5.0 & -2.0 & 2354 & 820 & 286.0 & 0.0 & \\emph{missing} & 2611.0 \\\\\n",
       "\t2 & 2020-01-01 & B6 & N712JB & 1006 & LGB & SEA & 10.0 & 8.0 & -8.0 & 5.0 & 1712 & 2016 & 166.0 & 0.0 & \\emph{missing} & 965.0 \\\\\n",
       "\t3 & 2020-01-01 & B6 & N624JB & 1136 & LGB & SFO & 29.0 & 4.0 & -9.0 & -9.0 & 636 & 810 & 61.0 & 0.0 & \\emph{missing} & 354.0 \\\\\n",
       "\t4 & 2020-01-01 & B6 & N712JB & 1166 & LGB & SMF & 13.0 & 9.0 & -9.0 & 2.0 & 1247 & 1422 & 73.0 & 0.0 & \\emph{missing} & 387.0 \\\\\n",
       "\t5 & 2020-01-01 & B6 & N985JT & 2800 & LAX & FLL & 20.0 & 6.0 & 20.0 & 17.0 & 1515 & 2302 & 261.0 & 0.0 & \\emph{missing} & 2343.0 \\\\\n",
       "\t6 & 2020-01-01 & B6 & N991JT & 1224 & LAX & JFK & 17.0 & 5.0 & -5.0 & -7.0 & 2021 & 433 & 290.0 & 0.0 & \\emph{missing} & 2475.0 \\\\\n",
       "\t7 & 2020-01-01 & B6 & N624JB & 1235 & SFO & LGB & 18.0 & 3.0 & -10.0 & -23.0 & 849 & 1005 & 55.0 & 0.0 & \\emph{missing} & 354.0 \\\\\n",
       "\t8 & 2020-01-01 & B6 & N624JB & 1416 & LGB & AUS & 10.0 & 16.0 & 7.0 & 16.0 & 1120 & 1614 & 148.0 & 0.0 & \\emph{missing} & 1226.0 \\\\\n",
       "\t9 & 2020-01-01 & B6 & N977JE & 1424 & LAX & JFK & 29.0 & 5.0 & 19.0 & 22.0 & 2337 & 759 & 288.0 & 0.0 & \\emph{missing} & 2475.0 \\\\\n",
       "\t10 & 2020-01-01 & B6 & N934JB & 1516 & SFO & JFK & 20.0 & 8.0 & -6.0 & -13.0 & 2353 & 810 & 289.0 & 0.0 & \\emph{missing} & 2586.0 \\\\\n",
       "\t$\\dots$ & $\\dots$ & $\\dots$ & $\\dots$ & $\\dots$ & $\\dots$ & $\\dots$ & $\\dots$ & $\\dots$ & $\\dots$ & $\\dots$ & $\\dots$ & $\\dots$ & $\\dots$ & $\\dots$ & $\\dots$ & $\\dots$ \\\\\n",
       "\\end{tabular}\n"
      ],
      "text/plain": [
       "\u001b[1m2227×16 SubDataset\u001b[0m\n",
       "\u001b[1m  Row \u001b[0m│\u001b[1m FlightDate \u001b[0m\u001b[1m IATA     \u001b[0m\u001b[1m Tail_Number \u001b[0m\u001b[1m Flight_Number \u001b[0m\u001b[1m Origin   \u001b[0m\u001b[1m Dest     \u001b[0m\u001b[1m TaxiOut  \u001b[0m\u001b[1m TaxiIn   \u001b[0m\u001b[1m DepDelay \u001b[0m\u001b[1m ArrDelay \u001b[0m\u001b[1m DepTime  \u001b[0m\u001b[1m ArrTime  \u001b[0m\u001b[1m AirTime  \u001b[0m\u001b[1m Cancelled \u001b[0m\u001b[1m CancellationCode \u001b[0m\u001b[1m Distance \u001b[0m\n",
       "      │\u001b[90m identity   \u001b[0m\u001b[90m identity \u001b[0m\u001b[90m identity    \u001b[0m\u001b[90m identity      \u001b[0m\u001b[90m identity \u001b[0m\u001b[90m identity \u001b[0m\u001b[90m identity \u001b[0m\u001b[90m identity \u001b[0m\u001b[90m identity \u001b[0m\u001b[90m identity \u001b[0m\u001b[90m identity \u001b[0m\u001b[90m identity \u001b[0m\u001b[90m identity \u001b[0m\u001b[90m identity  \u001b[0m\u001b[90m identity         \u001b[0m\u001b[90m identity \u001b[0m\n",
       "      │\u001b[90m Date?      \u001b[0m\u001b[90m String?  \u001b[0m\u001b[90m String?     \u001b[0m\u001b[90m Int64?        \u001b[0m\u001b[90m String?  \u001b[0m\u001b[90m String?  \u001b[0m\u001b[90m Float64? \u001b[0m\u001b[90m Float64? \u001b[0m\u001b[90m Float64? \u001b[0m\u001b[90m Float64? \u001b[0m\u001b[90m Int64?   \u001b[0m\u001b[90m Int64?   \u001b[0m\u001b[90m Float64? \u001b[0m\u001b[90m Float64?  \u001b[0m\u001b[90m String?          \u001b[0m\u001b[90m Float64? \u001b[0m\n",
       "──────┼───────────────────────────────────────────────────────────────────────────────────────────────────────────────────────────────────────────────────────────────────────────────────\n",
       "  ⋮   │     ⋮          ⋮           ⋮             ⋮           ⋮         ⋮         ⋮         ⋮         ⋮         ⋮         ⋮         ⋮         ⋮          ⋮             ⋮             ⋮\n",
       "\u001b[36m                                                                                                                                                                         2227 rows omitted\u001b[0m"
      ]
     },
     "execution_count": 7,
     "metadata": {},
     "output_type": "execute_result"
    }
   ],
   "source": [
    "filter(flights, :FlightDate, by = x->monthday(x)==(1,1)) # or\n",
    "filter(flights, 1, by = x->monthday(x)==(1,1), view = true) # creating a view of filtered observations"
   ]
  },
  {
   "cell_type": "markdown",
   "metadata": {},
   "source": [
    "To test if one of two conditions is verified:"
   ]
  },
  {
   "cell_type": "code",
   "execution_count": 8,
   "metadata": {},
   "outputs": [
    {
     "data": {
      "text/html": [
       "<table class=\"data-set\"><thead><tr><th></th><th>FlightDate</th><th>IATA</th><th>Tail_Number</th><th>Flight_Number</th><th>Origin</th><th>Dest</th><th>TaxiOut</th><th>TaxiIn</th><th>DepDelay</th><th>ArrDelay</th><th>DepTime</th><th>ArrTime</th><th>AirTime</th><th>Cancelled</th><th>CancellationCode</th><th>Distance</th></tr><tr><th></th><th>identity</th><th>identity</th><th>identity</th><th>identity</th><th>identity</th><th>identity</th><th>identity</th><th>identity</th><th>identity</th><th>identity</th><th>identity</th><th>identity</th><th>identity</th><th>identity</th><th>identity</th><th>identity</th></tr><tr><th></th><th title=\"Union{Missing, Date}\">Date?</th><th title=\"Union{Missing, String}\">String?</th><th title=\"Union{Missing, String}\">String?</th><th title=\"Union{Missing, Int64}\">Int64?</th><th title=\"Union{Missing, String}\">String?</th><th title=\"Union{Missing, String}\">String?</th><th title=\"Union{Missing, Float64}\">Float64?</th><th title=\"Union{Missing, Float64}\">Float64?</th><th title=\"Union{Missing, Float64}\">Float64?</th><th title=\"Union{Missing, Float64}\">Float64?</th><th title=\"Union{Missing, Int64}\">Int64?</th><th title=\"Union{Missing, Int64}\">Int64?</th><th title=\"Union{Missing, Float64}\">Float64?</th><th title=\"Union{Missing, Float64}\">Float64?</th><th title=\"Union{Missing, String}\">String?</th><th title=\"Union{Missing, Float64}\">Float64?</th></tr></thead><tbody><p>96,732 rows × 16 columns</p><tr><th>1</th><td>2020-01-01</td><td>AA</td><td>N951AA</td><td>172</td><td>SJC</td><td>DFW</td><td>10.0</td><td>14.0</td><td>-3.0</td><td>-10.0</td><td>757</td><td>1322</td><td>181.0</td><td>0.0</td><td><em>missing</em></td><td>1438.0</td></tr><tr><th>2</th><td>2020-01-02</td><td>AA</td><td>N903NN</td><td>172</td><td>SJC</td><td>DFW</td><td>10.0</td><td>18.0</td><td>-6.0</td><td>-8.0</td><td>754</td><td>1324</td><td>182.0</td><td>0.0</td><td><em>missing</em></td><td>1438.0</td></tr><tr><th>3</th><td>2020-01-03</td><td>AA</td><td>N932NN</td><td>172</td><td>SJC</td><td>DFW</td><td>13.0</td><td>13.0</td><td>-7.0</td><td>-10.0</td><td>753</td><td>1322</td><td>183.0</td><td>0.0</td><td><em>missing</em></td><td>1438.0</td></tr><tr><th>4</th><td>2020-01-04</td><td>AA</td><td>N941NN</td><td>172</td><td>SJC</td><td>DFW</td><td>11.0</td><td>6.0</td><td>11.0</td><td>-11.0</td><td>811</td><td>1321</td><td>173.0</td><td>0.0</td><td><em>missing</em></td><td>1438.0</td></tr><tr><th>5</th><td>2020-01-05</td><td>AA</td><td>N344PP</td><td>172</td><td>SJC</td><td>DFW</td><td>13.0</td><td>7.0</td><td>63.0</td><td>39.0</td><td>903</td><td>1411</td><td>168.0</td><td>0.0</td><td><em>missing</em></td><td>1438.0</td></tr><tr><th>6</th><td>2020-01-06</td><td>AA</td><td>N953AN</td><td>172</td><td>SJC</td><td>DFW</td><td>13.0</td><td>14.0</td><td>-4.0</td><td>-20.0</td><td>756</td><td>1312</td><td>169.0</td><td>0.0</td><td><em>missing</em></td><td>1438.0</td></tr><tr><th>7</th><td>2020-01-07</td><td>AA</td><td>N344PP</td><td>172</td><td>SJC</td><td>DFW</td><td>19.0</td><td>6.0</td><td>-8.0</td><td>-24.0</td><td>752</td><td>1309</td><td>172.0</td><td>0.0</td><td><em>missing</em></td><td>1438.0</td></tr><tr><th>8</th><td>2020-01-08</td><td>AA</td><td>N976NN</td><td>172</td><td>SJC</td><td>DFW</td><td>14.0</td><td>11.0</td><td>-8.0</td><td>-21.0</td><td>752</td><td>1312</td><td>175.0</td><td>0.0</td><td><em>missing</em></td><td>1438.0</td></tr><tr><th>9</th><td>2020-01-09</td><td>AA</td><td>N943AN</td><td>172</td><td>SJC</td><td>DFW</td><td>18.0</td><td>9.0</td><td>-4.0</td><td>-16.0</td><td>756</td><td>1317</td><td>174.0</td><td>0.0</td><td><em>missing</em></td><td>1438.0</td></tr><tr><th>10</th><td>2020-01-10</td><td>AA</td><td>N914AN</td><td>172</td><td>SJC</td><td>DFW</td><td>14.0</td><td>11.0</td><td>-5.0</td><td>-12.0</td><td>755</td><td>1321</td><td>181.0</td><td>0.0</td><td><em>missing</em></td><td>1438.0</td></tr><tr><th>&vellip;</th><td>&vellip;</td><td>&vellip;</td><td>&vellip;</td><td>&vellip;</td><td>&vellip;</td><td>&vellip;</td><td>&vellip;</td><td>&vellip;</td><td>&vellip;</td><td>&vellip;</td><td>&vellip;</td><td>&vellip;</td><td>&vellip;</td><td>&vellip;</td><td>&vellip;</td><td>&vellip;</td></tr></tbody></table>"
      ],
      "text/latex": [
       "\\begin{tabular}{r|cccccccccccccccc}\n",
       "\t& FlightDate & IATA & Tail\\_Number & Flight\\_Number & Origin & Dest & TaxiOut & TaxiIn & DepDelay & ArrDelay & DepTime & ArrTime & AirTime & Cancelled & CancellationCode & Distance\\\\\n",
       "\t\\hline\n",
       "\t& identity & identity & identity & identity & identity & identity & identity & identity & identity & identity & identity & identity & identity & identity & identity & identity\\\\\n",
       "\t\\hline\n",
       "\t& Date? & String? & String? & Int64? & String? & String? & Float64? & Float64? & Float64? & Float64? & Int64? & Int64? & Float64? & Float64? & String? & Float64?\\\\\n",
       "\t\\hline\n",
       "\t1 & 2020-01-01 & AA & N951AA & 172 & SJC & DFW & 10.0 & 14.0 & -3.0 & -10.0 & 757 & 1322 & 181.0 & 0.0 & \\emph{missing} & 1438.0 \\\\\n",
       "\t2 & 2020-01-02 & AA & N903NN & 172 & SJC & DFW & 10.0 & 18.0 & -6.0 & -8.0 & 754 & 1324 & 182.0 & 0.0 & \\emph{missing} & 1438.0 \\\\\n",
       "\t3 & 2020-01-03 & AA & N932NN & 172 & SJC & DFW & 13.0 & 13.0 & -7.0 & -10.0 & 753 & 1322 & 183.0 & 0.0 & \\emph{missing} & 1438.0 \\\\\n",
       "\t4 & 2020-01-04 & AA & N941NN & 172 & SJC & DFW & 11.0 & 6.0 & 11.0 & -11.0 & 811 & 1321 & 173.0 & 0.0 & \\emph{missing} & 1438.0 \\\\\n",
       "\t5 & 2020-01-05 & AA & N344PP & 172 & SJC & DFW & 13.0 & 7.0 & 63.0 & 39.0 & 903 & 1411 & 168.0 & 0.0 & \\emph{missing} & 1438.0 \\\\\n",
       "\t6 & 2020-01-06 & AA & N953AN & 172 & SJC & DFW & 13.0 & 14.0 & -4.0 & -20.0 & 756 & 1312 & 169.0 & 0.0 & \\emph{missing} & 1438.0 \\\\\n",
       "\t7 & 2020-01-07 & AA & N344PP & 172 & SJC & DFW & 19.0 & 6.0 & -8.0 & -24.0 & 752 & 1309 & 172.0 & 0.0 & \\emph{missing} & 1438.0 \\\\\n",
       "\t8 & 2020-01-08 & AA & N976NN & 172 & SJC & DFW & 14.0 & 11.0 & -8.0 & -21.0 & 752 & 1312 & 175.0 & 0.0 & \\emph{missing} & 1438.0 \\\\\n",
       "\t9 & 2020-01-09 & AA & N943AN & 172 & SJC & DFW & 18.0 & 9.0 & -4.0 & -16.0 & 756 & 1317 & 174.0 & 0.0 & \\emph{missing} & 1438.0 \\\\\n",
       "\t10 & 2020-01-10 & AA & N914AN & 172 & SJC & DFW & 14.0 & 11.0 & -5.0 & -12.0 & 755 & 1321 & 181.0 & 0.0 & \\emph{missing} & 1438.0 \\\\\n",
       "\t$\\dots$ & $\\dots$ & $\\dots$ & $\\dots$ & $\\dots$ & $\\dots$ & $\\dots$ & $\\dots$ & $\\dots$ & $\\dots$ & $\\dots$ & $\\dots$ & $\\dots$ & $\\dots$ & $\\dots$ & $\\dots$ & $\\dots$ \\\\\n",
       "\\end{tabular}\n"
      ],
      "text/plain": [
       "\u001b[1m96732×16 Dataset\u001b[0m\n",
       "\u001b[1m   Row \u001b[0m│\u001b[1m FlightDate \u001b[0m\u001b[1m IATA     \u001b[0m\u001b[1m Tail_Number \u001b[0m\u001b[1m Flight_Number \u001b[0m\u001b[1m Origin   \u001b[0m\u001b[1m Dest     \u001b[0m\u001b[1m TaxiOut  \u001b[0m\u001b[1m TaxiIn   \u001b[0m\u001b[1m DepDelay \u001b[0m\u001b[1m ArrDelay \u001b[0m\u001b[1m DepTime  \u001b[0m\u001b[1m ArrTime  \u001b[0m\u001b[1m AirTime  \u001b[0m\u001b[1m Cancelled \u001b[0m\u001b[1m CancellationCode \u001b[0m\u001b[1m Distance \u001b[0m\n",
       "       │\u001b[90m identity   \u001b[0m\u001b[90m identity \u001b[0m\u001b[90m identity    \u001b[0m\u001b[90m identity      \u001b[0m\u001b[90m identity \u001b[0m\u001b[90m identity \u001b[0m\u001b[90m identity \u001b[0m\u001b[90m identity \u001b[0m\u001b[90m identity \u001b[0m\u001b[90m identity \u001b[0m\u001b[90m identity \u001b[0m\u001b[90m identity \u001b[0m\u001b[90m identity \u001b[0m\u001b[90m identity  \u001b[0m\u001b[90m identity         \u001b[0m\u001b[90m identity \u001b[0m\n",
       "       │\u001b[90m Date?      \u001b[0m\u001b[90m String?  \u001b[0m\u001b[90m String?     \u001b[0m\u001b[90m Int64?        \u001b[0m\u001b[90m String?  \u001b[0m\u001b[90m String?  \u001b[0m\u001b[90m Float64? \u001b[0m\u001b[90m Float64? \u001b[0m\u001b[90m Float64? \u001b[0m\u001b[90m Float64? \u001b[0m\u001b[90m Int64?   \u001b[0m\u001b[90m Int64?   \u001b[0m\u001b[90m Float64? \u001b[0m\u001b[90m Float64?  \u001b[0m\u001b[90m String?          \u001b[0m\u001b[90m Float64? \u001b[0m\n",
       "───────┼───────────────────────────────────────────────────────────────────────────────────────────────────────────────────────────────────────────────────────────────────────────────────\n",
       "   ⋮   │     ⋮          ⋮           ⋮             ⋮           ⋮         ⋮         ⋮         ⋮         ⋮         ⋮         ⋮         ⋮         ⋮          ⋮             ⋮             ⋮\n",
       "\u001b[36m                                                                                                                                                                         96732 rows omitted\u001b[0m"
      ]
     },
     "execution_count": 8,
     "metadata": {},
     "output_type": "execute_result"
    }
   ],
   "source": [
    "filter(flights, :IATA, by = in((\"AA\", \"UA\")))"
   ]
  },
  {
   "cell_type": "markdown",
   "metadata": {},
   "source": [
    "Filter based on multiple columns: (we can refer to multiple columns by their names or their indices)"
   ]
  },
  {
   "cell_type": "code",
   "execution_count": 9,
   "metadata": {},
   "outputs": [
    {
     "data": {
      "text/html": [
       "<table class=\"data-set\"><thead><tr><th></th><th>FlightDate</th><th>IATA</th><th>Tail_Number</th><th>Flight_Number</th><th>Origin</th><th>Dest</th><th>TaxiOut</th><th>TaxiIn</th><th>DepDelay</th><th>ArrDelay</th><th>DepTime</th><th>ArrTime</th><th>AirTime</th><th>Cancelled</th><th>CancellationCode</th><th>Distance</th></tr><tr><th></th><th>identity</th><th>identity</th><th>identity</th><th>identity</th><th>identity</th><th>identity</th><th>identity</th><th>identity</th><th>identity</th><th>identity</th><th>identity</th><th>identity</th><th>identity</th><th>identity</th><th>identity</th><th>identity</th></tr><tr><th></th><th title=\"Union{Missing, Date}\">Date?</th><th title=\"Union{Missing, String}\">String?</th><th title=\"Union{Missing, String}\">String?</th><th title=\"Union{Missing, Int64}\">Int64?</th><th title=\"Union{Missing, String}\">String?</th><th title=\"Union{Missing, String}\">String?</th><th title=\"Union{Missing, Float64}\">Float64?</th><th title=\"Union{Missing, Float64}\">Float64?</th><th title=\"Union{Missing, Float64}\">Float64?</th><th title=\"Union{Missing, Float64}\">Float64?</th><th title=\"Union{Missing, Int64}\">Int64?</th><th title=\"Union{Missing, Int64}\">Int64?</th><th title=\"Union{Missing, Float64}\">Float64?</th><th title=\"Union{Missing, Float64}\">Float64?</th><th title=\"Union{Missing, String}\">String?</th><th title=\"Union{Missing, Float64}\">Float64?</th></tr></thead><tbody><p>564 rows × 16 columns</p><tr><th>1</th><td>2020-01-01</td><td>AA</td><td>N951AA</td><td>172</td><td>SJC</td><td>DFW</td><td>10.0</td><td>14.0</td><td>-3.0</td><td>-10.0</td><td>757</td><td>1322</td><td>181.0</td><td>0.0</td><td><em>missing</em></td><td>1438.0</td></tr><tr><th>2</th><td>2020-01-01</td><td>AA</td><td>N111ZM</td><td>184</td><td>LAX</td><td>JFK</td><td>13.0</td><td>5.0</td><td>-1.0</td><td>-5.0</td><td>1659</td><td>111</td><td>294.0</td><td>0.0</td><td><em>missing</em></td><td>2475.0</td></tr><tr><th>3</th><td>2020-01-01</td><td>AA</td><td>N919US</td><td>187</td><td>LAX</td><td>PHL</td><td>13.0</td><td>5.0</td><td>8.0</td><td>-17.0</td><td>1550</td><td>2323</td><td>255.0</td><td>0.0</td><td><em>missing</em></td><td>2402.0</td></tr><tr><th>4</th><td>2020-01-01</td><td>AA</td><td>N871NN</td><td>201</td><td>SNA</td><td>PHX</td><td>21.0</td><td>9.0</td><td>-3.0</td><td>-11.0</td><td>642</td><td>903</td><td>51.0</td><td>0.0</td><td><em>missing</em></td><td>338.0</td></tr><tr><th>5</th><td>2020-01-01</td><td>AA</td><td>N123NN</td><td>205</td><td>LAX</td><td>OGG</td><td>13.0</td><td>7.0</td><td>23.0</td><td>-9.0</td><td>1508</td><td>1831</td><td>303.0</td><td>0.0</td><td><em>missing</em></td><td>2486.0</td></tr><tr><th>6</th><td>2020-01-01</td><td>AA</td><td>N967AN</td><td>215</td><td>SFO</td><td>ORD</td><td>21.0</td><td>6.0</td><td>-3.0</td><td>-13.0</td><td>2355</td><td>558</td><td>216.0</td><td>0.0</td><td><em>missing</em></td><td>1846.0</td></tr><tr><th>7</th><td>2020-01-01</td><td>AA</td><td>N131NN</td><td>231</td><td>LAX</td><td>OGG</td><td>20.0</td><td>5.0</td><td>-8.0</td><td>-35.0</td><td>1853</td><td>2221</td><td>303.0</td><td>0.0</td><td><em>missing</em></td><td>2486.0</td></tr><tr><th>8</th><td>2020-01-01</td><td>AA</td><td>N104NN</td><td>238</td><td>LAX</td><td>JFK</td><td>22.0</td><td>8.0</td><td>34.0</td><td>39.0</td><td>1034</td><td>1902</td><td>298.0</td><td>0.0</td><td><em>missing</em></td><td>2475.0</td></tr><tr><th>9</th><td>2020-01-01</td><td>AA</td><td>N126AN</td><td>240</td><td>LAX</td><td>HNL</td><td>13.0</td><td>4.0</td><td>28.0</td><td>-20.0</td><td>728</td><td>1040</td><td>295.0</td><td>0.0</td><td><em>missing</em></td><td>2556.0</td></tr><tr><th>10</th><td>2020-01-01</td><td>AA</td><td>N120EE</td><td>247</td><td>LAX</td><td>KOA</td><td>13.0</td><td>4.0</td><td>-9.0</td><td>-42.0</td><td>1741</td><td>2057</td><td>299.0</td><td>0.0</td><td><em>missing</em></td><td>2504.0</td></tr><tr><th>&vellip;</th><td>&vellip;</td><td>&vellip;</td><td>&vellip;</td><td>&vellip;</td><td>&vellip;</td><td>&vellip;</td><td>&vellip;</td><td>&vellip;</td><td>&vellip;</td><td>&vellip;</td><td>&vellip;</td><td>&vellip;</td><td>&vellip;</td><td>&vellip;</td><td>&vellip;</td><td>&vellip;</td></tr></tbody></table>"
      ],
      "text/latex": [
       "\\begin{tabular}{r|cccccccccccccccc}\n",
       "\t& FlightDate & IATA & Tail\\_Number & Flight\\_Number & Origin & Dest & TaxiOut & TaxiIn & DepDelay & ArrDelay & DepTime & ArrTime & AirTime & Cancelled & CancellationCode & Distance\\\\\n",
       "\t\\hline\n",
       "\t& identity & identity & identity & identity & identity & identity & identity & identity & identity & identity & identity & identity & identity & identity & identity & identity\\\\\n",
       "\t\\hline\n",
       "\t& Date? & String? & String? & Int64? & String? & String? & Float64? & Float64? & Float64? & Float64? & Int64? & Int64? & Float64? & Float64? & String? & Float64?\\\\\n",
       "\t\\hline\n",
       "\t1 & 2020-01-01 & AA & N951AA & 172 & SJC & DFW & 10.0 & 14.0 & -3.0 & -10.0 & 757 & 1322 & 181.0 & 0.0 & \\emph{missing} & 1438.0 \\\\\n",
       "\t2 & 2020-01-01 & AA & N111ZM & 184 & LAX & JFK & 13.0 & 5.0 & -1.0 & -5.0 & 1659 & 111 & 294.0 & 0.0 & \\emph{missing} & 2475.0 \\\\\n",
       "\t3 & 2020-01-01 & AA & N919US & 187 & LAX & PHL & 13.0 & 5.0 & 8.0 & -17.0 & 1550 & 2323 & 255.0 & 0.0 & \\emph{missing} & 2402.0 \\\\\n",
       "\t4 & 2020-01-01 & AA & N871NN & 201 & SNA & PHX & 21.0 & 9.0 & -3.0 & -11.0 & 642 & 903 & 51.0 & 0.0 & \\emph{missing} & 338.0 \\\\\n",
       "\t5 & 2020-01-01 & AA & N123NN & 205 & LAX & OGG & 13.0 & 7.0 & 23.0 & -9.0 & 1508 & 1831 & 303.0 & 0.0 & \\emph{missing} & 2486.0 \\\\\n",
       "\t6 & 2020-01-01 & AA & N967AN & 215 & SFO & ORD & 21.0 & 6.0 & -3.0 & -13.0 & 2355 & 558 & 216.0 & 0.0 & \\emph{missing} & 1846.0 \\\\\n",
       "\t7 & 2020-01-01 & AA & N131NN & 231 & LAX & OGG & 20.0 & 5.0 & -8.0 & -35.0 & 1853 & 2221 & 303.0 & 0.0 & \\emph{missing} & 2486.0 \\\\\n",
       "\t8 & 2020-01-01 & AA & N104NN & 238 & LAX & JFK & 22.0 & 8.0 & 34.0 & 39.0 & 1034 & 1902 & 298.0 & 0.0 & \\emph{missing} & 2475.0 \\\\\n",
       "\t9 & 2020-01-01 & AA & N126AN & 240 & LAX & HNL & 13.0 & 4.0 & 28.0 & -20.0 & 728 & 1040 & 295.0 & 0.0 & \\emph{missing} & 2556.0 \\\\\n",
       "\t10 & 2020-01-01 & AA & N120EE & 247 & LAX & KOA & 13.0 & 4.0 & -9.0 & -42.0 & 1741 & 2057 & 299.0 & 0.0 & \\emph{missing} & 2504.0 \\\\\n",
       "\t$\\dots$ & $\\dots$ & $\\dots$ & $\\dots$ & $\\dots$ & $\\dots$ & $\\dots$ & $\\dots$ & $\\dots$ & $\\dots$ & $\\dots$ & $\\dots$ & $\\dots$ & $\\dots$ & $\\dots$ & $\\dots$ & $\\dots$ \\\\\n",
       "\\end{tabular}\n"
      ],
      "text/plain": [
       "\u001b[1m564×16 Dataset\u001b[0m\n",
       "\u001b[1m Row \u001b[0m│\u001b[1m FlightDate \u001b[0m\u001b[1m IATA     \u001b[0m\u001b[1m Tail_Number \u001b[0m\u001b[1m Flight_Number \u001b[0m\u001b[1m Origin   \u001b[0m\u001b[1m Dest     \u001b[0m\u001b[1m TaxiOut  \u001b[0m\u001b[1m TaxiIn   \u001b[0m\u001b[1m DepDelay \u001b[0m\u001b[1m ArrDelay \u001b[0m\u001b[1m DepTime  \u001b[0m\u001b[1m ArrTime  \u001b[0m\u001b[1m AirTime  \u001b[0m\u001b[1m Cancelled \u001b[0m\u001b[1m CancellationCode \u001b[0m\u001b[1m Distance \u001b[0m\n",
       "     │\u001b[90m identity   \u001b[0m\u001b[90m identity \u001b[0m\u001b[90m identity    \u001b[0m\u001b[90m identity      \u001b[0m\u001b[90m identity \u001b[0m\u001b[90m identity \u001b[0m\u001b[90m identity \u001b[0m\u001b[90m identity \u001b[0m\u001b[90m identity \u001b[0m\u001b[90m identity \u001b[0m\u001b[90m identity \u001b[0m\u001b[90m identity \u001b[0m\u001b[90m identity \u001b[0m\u001b[90m identity  \u001b[0m\u001b[90m identity         \u001b[0m\u001b[90m identity \u001b[0m\n",
       "     │\u001b[90m Date?      \u001b[0m\u001b[90m String?  \u001b[0m\u001b[90m String?     \u001b[0m\u001b[90m Int64?        \u001b[0m\u001b[90m String?  \u001b[0m\u001b[90m String?  \u001b[0m\u001b[90m Float64? \u001b[0m\u001b[90m Float64? \u001b[0m\u001b[90m Float64? \u001b[0m\u001b[90m Float64? \u001b[0m\u001b[90m Int64?   \u001b[0m\u001b[90m Int64?   \u001b[0m\u001b[90m Float64? \u001b[0m\u001b[90m Float64?  \u001b[0m\u001b[90m String?          \u001b[0m\u001b[90m Float64? \u001b[0m\n",
       "─────┼───────────────────────────────────────────────────────────────────────────────────────────────────────────────────────────────────────────────────────────────────────────────────\n",
       "  ⋮  │     ⋮          ⋮           ⋮             ⋮           ⋮         ⋮         ⋮         ⋮         ⋮         ⋮         ⋮         ⋮         ⋮          ⋮             ⋮             ⋮\n",
       "\u001b[36m                                                                                                                                                                         564 rows omitted\u001b[0m"
      ]
     },
     "execution_count": 9,
     "metadata": {},
     "output_type": "execute_result"
    }
   ],
   "source": [
    "filter(flights, [:FlightDate, :IATA], by = [x->monthday(x)==(1,1), in((\"UA\", \"AA\"))])"
   ]
  },
  {
   "cell_type": "markdown",
   "metadata": {},
   "source": [
    "If you apply a function frequently on a column, you can set it as the column's format, and use the `mapformats = true` kewyword arugment in `filter`:\n",
    "> Note that some functions don't support the `mapformats = true` keyword argument.\n",
    "\n",
    "We first define formats and then assign them to selected columns:"
   ]
  },
  {
   "cell_type": "code",
   "execution_count": 10,
   "metadata": {},
   "outputs": [],
   "source": [
    "UA_AA(x) = in(x, (\"UA\", \"AA\"))\n",
    "setformat!(flights, 1=>monthday, 2=>UA_AA);"
   ]
  },
  {
   "cell_type": "code",
   "execution_count": 11,
   "metadata": {},
   "outputs": [
    {
     "data": {
      "text/html": [
       "<table class=\"data-set\"><thead><tr><th></th><th>FlightDate</th><th>IATA</th><th>Tail_Number</th><th>Flight_Number</th><th>Origin</th><th>Dest</th><th>TaxiOut</th><th>TaxiIn</th><th>DepDelay</th><th>ArrDelay</th><th>DepTime</th><th>ArrTime</th><th>AirTime</th><th>Cancelled</th><th>CancellationCode</th><th>Distance</th></tr><tr><th></th><th>monthday</th><th>UA_AA</th><th>identity</th><th>identity</th><th>identity</th><th>identity</th><th>identity</th><th>identity</th><th>identity</th><th>identity</th><th>identity</th><th>identity</th><th>identity</th><th>identity</th><th>identity</th><th>identity</th></tr><tr><th></th><th title=\"Union{Missing, Date}\">Date?</th><th title=\"Union{Missing, String}\">String?</th><th title=\"Union{Missing, String}\">String?</th><th title=\"Union{Missing, Int64}\">Int64?</th><th title=\"Union{Missing, String}\">String?</th><th title=\"Union{Missing, String}\">String?</th><th title=\"Union{Missing, Float64}\">Float64?</th><th title=\"Union{Missing, Float64}\">Float64?</th><th title=\"Union{Missing, Float64}\">Float64?</th><th title=\"Union{Missing, Float64}\">Float64?</th><th title=\"Union{Missing, Int64}\">Int64?</th><th title=\"Union{Missing, Int64}\">Int64?</th><th title=\"Union{Missing, Float64}\">Float64?</th><th title=\"Union{Missing, Float64}\">Float64?</th><th title=\"Union{Missing, String}\">String?</th><th title=\"Union{Missing, Float64}\">Float64?</th></tr></thead><tbody><p>564 rows × 16 columns</p><tr><th>1</th><td>(1, 1)</td><td>1</td><td>N951AA</td><td>172</td><td>SJC</td><td>DFW</td><td>10.0</td><td>14.0</td><td>-3.0</td><td>-10.0</td><td>757</td><td>1322</td><td>181.0</td><td>0.0</td><td><em>missing</em></td><td>1438.0</td></tr><tr><th>2</th><td>(1, 1)</td><td>1</td><td>N111ZM</td><td>184</td><td>LAX</td><td>JFK</td><td>13.0</td><td>5.0</td><td>-1.0</td><td>-5.0</td><td>1659</td><td>111</td><td>294.0</td><td>0.0</td><td><em>missing</em></td><td>2475.0</td></tr><tr><th>3</th><td>(1, 1)</td><td>1</td><td>N919US</td><td>187</td><td>LAX</td><td>PHL</td><td>13.0</td><td>5.0</td><td>8.0</td><td>-17.0</td><td>1550</td><td>2323</td><td>255.0</td><td>0.0</td><td><em>missing</em></td><td>2402.0</td></tr><tr><th>4</th><td>(1, 1)</td><td>1</td><td>N871NN</td><td>201</td><td>SNA</td><td>PHX</td><td>21.0</td><td>9.0</td><td>-3.0</td><td>-11.0</td><td>642</td><td>903</td><td>51.0</td><td>0.0</td><td><em>missing</em></td><td>338.0</td></tr><tr><th>5</th><td>(1, 1)</td><td>1</td><td>N123NN</td><td>205</td><td>LAX</td><td>OGG</td><td>13.0</td><td>7.0</td><td>23.0</td><td>-9.0</td><td>1508</td><td>1831</td><td>303.0</td><td>0.0</td><td><em>missing</em></td><td>2486.0</td></tr><tr><th>6</th><td>(1, 1)</td><td>1</td><td>N967AN</td><td>215</td><td>SFO</td><td>ORD</td><td>21.0</td><td>6.0</td><td>-3.0</td><td>-13.0</td><td>2355</td><td>558</td><td>216.0</td><td>0.0</td><td><em>missing</em></td><td>1846.0</td></tr><tr><th>7</th><td>(1, 1)</td><td>1</td><td>N131NN</td><td>231</td><td>LAX</td><td>OGG</td><td>20.0</td><td>5.0</td><td>-8.0</td><td>-35.0</td><td>1853</td><td>2221</td><td>303.0</td><td>0.0</td><td><em>missing</em></td><td>2486.0</td></tr><tr><th>8</th><td>(1, 1)</td><td>1</td><td>N104NN</td><td>238</td><td>LAX</td><td>JFK</td><td>22.0</td><td>8.0</td><td>34.0</td><td>39.0</td><td>1034</td><td>1902</td><td>298.0</td><td>0.0</td><td><em>missing</em></td><td>2475.0</td></tr><tr><th>9</th><td>(1, 1)</td><td>1</td><td>N126AN</td><td>240</td><td>LAX</td><td>HNL</td><td>13.0</td><td>4.0</td><td>28.0</td><td>-20.0</td><td>728</td><td>1040</td><td>295.0</td><td>0.0</td><td><em>missing</em></td><td>2556.0</td></tr><tr><th>10</th><td>(1, 1)</td><td>1</td><td>N120EE</td><td>247</td><td>LAX</td><td>KOA</td><td>13.0</td><td>4.0</td><td>-9.0</td><td>-42.0</td><td>1741</td><td>2057</td><td>299.0</td><td>0.0</td><td><em>missing</em></td><td>2504.0</td></tr><tr><th>&vellip;</th><td>&vellip;</td><td>&vellip;</td><td>&vellip;</td><td>&vellip;</td><td>&vellip;</td><td>&vellip;</td><td>&vellip;</td><td>&vellip;</td><td>&vellip;</td><td>&vellip;</td><td>&vellip;</td><td>&vellip;</td><td>&vellip;</td><td>&vellip;</td><td>&vellip;</td><td>&vellip;</td></tr></tbody></table>"
      ],
      "text/latex": [
       "\\begin{tabular}{r|cccccccccccccccc}\n",
       "\t& FlightDate & IATA & Tail\\_Number & Flight\\_Number & Origin & Dest & TaxiOut & TaxiIn & DepDelay & ArrDelay & DepTime & ArrTime & AirTime & Cancelled & CancellationCode & Distance\\\\\n",
       "\t\\hline\n",
       "\t& monthday & UA\\_AA & identity & identity & identity & identity & identity & identity & identity & identity & identity & identity & identity & identity & identity & identity\\\\\n",
       "\t\\hline\n",
       "\t& Date? & String? & String? & Int64? & String? & String? & Float64? & Float64? & Float64? & Float64? & Int64? & Int64? & Float64? & Float64? & String? & Float64?\\\\\n",
       "\t\\hline\n",
       "\t1 & (1, 1) & 1 & N951AA & 172 & SJC & DFW & 10.0 & 14.0 & -3.0 & -10.0 & 757 & 1322 & 181.0 & 0.0 & \\emph{missing} & 1438.0 \\\\\n",
       "\t2 & (1, 1) & 1 & N111ZM & 184 & LAX & JFK & 13.0 & 5.0 & -1.0 & -5.0 & 1659 & 111 & 294.0 & 0.0 & \\emph{missing} & 2475.0 \\\\\n",
       "\t3 & (1, 1) & 1 & N919US & 187 & LAX & PHL & 13.0 & 5.0 & 8.0 & -17.0 & 1550 & 2323 & 255.0 & 0.0 & \\emph{missing} & 2402.0 \\\\\n",
       "\t4 & (1, 1) & 1 & N871NN & 201 & SNA & PHX & 21.0 & 9.0 & -3.0 & -11.0 & 642 & 903 & 51.0 & 0.0 & \\emph{missing} & 338.0 \\\\\n",
       "\t5 & (1, 1) & 1 & N123NN & 205 & LAX & OGG & 13.0 & 7.0 & 23.0 & -9.0 & 1508 & 1831 & 303.0 & 0.0 & \\emph{missing} & 2486.0 \\\\\n",
       "\t6 & (1, 1) & 1 & N967AN & 215 & SFO & ORD & 21.0 & 6.0 & -3.0 & -13.0 & 2355 & 558 & 216.0 & 0.0 & \\emph{missing} & 1846.0 \\\\\n",
       "\t7 & (1, 1) & 1 & N131NN & 231 & LAX & OGG & 20.0 & 5.0 & -8.0 & -35.0 & 1853 & 2221 & 303.0 & 0.0 & \\emph{missing} & 2486.0 \\\\\n",
       "\t8 & (1, 1) & 1 & N104NN & 238 & LAX & JFK & 22.0 & 8.0 & 34.0 & 39.0 & 1034 & 1902 & 298.0 & 0.0 & \\emph{missing} & 2475.0 \\\\\n",
       "\t9 & (1, 1) & 1 & N126AN & 240 & LAX & HNL & 13.0 & 4.0 & 28.0 & -20.0 & 728 & 1040 & 295.0 & 0.0 & \\emph{missing} & 2556.0 \\\\\n",
       "\t10 & (1, 1) & 1 & N120EE & 247 & LAX & KOA & 13.0 & 4.0 & -9.0 & -42.0 & 1741 & 2057 & 299.0 & 0.0 & \\emph{missing} & 2504.0 \\\\\n",
       "\t$\\dots$ & $\\dots$ & $\\dots$ & $\\dots$ & $\\dots$ & $\\dots$ & $\\dots$ & $\\dots$ & $\\dots$ & $\\dots$ & $\\dots$ & $\\dots$ & $\\dots$ & $\\dots$ & $\\dots$ & $\\dots$ & $\\dots$ \\\\\n",
       "\\end{tabular}\n"
      ],
      "text/plain": [
       "\u001b[1m564×16 Dataset\u001b[0m\n",
       "\u001b[1m Row \u001b[0m│\u001b[1m FlightDate \u001b[0m\u001b[1m IATA    \u001b[0m\u001b[1m Tail_Number \u001b[0m\u001b[1m Flight_Number \u001b[0m\u001b[1m Origin   \u001b[0m\u001b[1m Dest     \u001b[0m\u001b[1m TaxiOut  \u001b[0m\u001b[1m TaxiIn   \u001b[0m\u001b[1m DepDelay \u001b[0m\u001b[1m ArrDelay \u001b[0m\u001b[1m DepTime  \u001b[0m\u001b[1m ArrTime  \u001b[0m\u001b[1m AirTime  \u001b[0m\u001b[1m Cancelled \u001b[0m\u001b[1m CancellationCode \u001b[0m\u001b[1m Distance \u001b[0m\n",
       "     │\u001b[90m monthday   \u001b[0m\u001b[90m UA_AA   \u001b[0m\u001b[90m identity    \u001b[0m\u001b[90m identity      \u001b[0m\u001b[90m identity \u001b[0m\u001b[90m identity \u001b[0m\u001b[90m identity \u001b[0m\u001b[90m identity \u001b[0m\u001b[90m identity \u001b[0m\u001b[90m identity \u001b[0m\u001b[90m identity \u001b[0m\u001b[90m identity \u001b[0m\u001b[90m identity \u001b[0m\u001b[90m identity  \u001b[0m\u001b[90m identity         \u001b[0m\u001b[90m identity \u001b[0m\n",
       "     │\u001b[90m Date?      \u001b[0m\u001b[90m String? \u001b[0m\u001b[90m String?     \u001b[0m\u001b[90m Int64?        \u001b[0m\u001b[90m String?  \u001b[0m\u001b[90m String?  \u001b[0m\u001b[90m Float64? \u001b[0m\u001b[90m Float64? \u001b[0m\u001b[90m Float64? \u001b[0m\u001b[90m Float64? \u001b[0m\u001b[90m Int64?   \u001b[0m\u001b[90m Int64?   \u001b[0m\u001b[90m Float64? \u001b[0m\u001b[90m Float64?  \u001b[0m\u001b[90m String?          \u001b[0m\u001b[90m Float64? \u001b[0m\n",
       "─────┼──────────────────────────────────────────────────────────────────────────────────────────────────────────────────────────────────────────────────────────────────────────────────\n",
       "  ⋮  │     ⋮          ⋮          ⋮             ⋮           ⋮         ⋮         ⋮         ⋮         ⋮         ⋮         ⋮         ⋮         ⋮          ⋮             ⋮             ⋮\n",
       "\u001b[36m                                                                                                                                                                        564 rows omitted\u001b[0m"
      ]
     },
     "execution_count": 11,
     "metadata": {},
     "output_type": "execute_result"
    }
   ],
   "source": [
    "filter(flights, 1:2, by = [==((1,1)), identity], mapformats = true)"
   ]
  },
  {
   "cell_type": "markdown",
   "metadata": {},
   "source": [
    "`setformat!` doesn't change the actual values of data:"
   ]
  },
  {
   "cell_type": "code",
   "execution_count": 12,
   "metadata": {},
   "outputs": [
    {
     "data": {
      "text/html": [
       "<table class=\"data-set\"><thead><tr><th></th><th>FlightDate</th><th>IATA</th><th>Tail_Number</th><th>Flight_Number</th><th>Origin</th><th>Dest</th><th>TaxiOut</th><th>TaxiIn</th><th>DepDelay</th><th>ArrDelay</th><th>DepTime</th><th>ArrTime</th><th>AirTime</th><th>Cancelled</th><th>CancellationCode</th><th>Distance</th></tr><tr><th></th><th>identity</th><th>identity</th><th>identity</th><th>identity</th><th>identity</th><th>identity</th><th>identity</th><th>identity</th><th>identity</th><th>identity</th><th>identity</th><th>identity</th><th>identity</th><th>identity</th><th>identity</th><th>identity</th></tr><tr><th></th><th title=\"Union{Missing, Date}\">Date?</th><th title=\"Union{Missing, String}\">String?</th><th title=\"Union{Missing, String}\">String?</th><th title=\"Union{Missing, Int64}\">Int64?</th><th title=\"Union{Missing, String}\">String?</th><th title=\"Union{Missing, String}\">String?</th><th title=\"Union{Missing, Float64}\">Float64?</th><th title=\"Union{Missing, Float64}\">Float64?</th><th title=\"Union{Missing, Float64}\">Float64?</th><th title=\"Union{Missing, Float64}\">Float64?</th><th title=\"Union{Missing, Int64}\">Int64?</th><th title=\"Union{Missing, Int64}\">Int64?</th><th title=\"Union{Missing, Float64}\">Float64?</th><th title=\"Union{Missing, Float64}\">Float64?</th><th title=\"Union{Missing, String}\">String?</th><th title=\"Union{Missing, Float64}\">Float64?</th></tr></thead><tbody><p>467,402 rows × 16 columns</p><tr><th>1</th><td>2020-01-01</td><td>B6</td><td>N947JB</td><td>988</td><td>LAX</td><td>BOS</td><td>26.0</td><td>14.0</td><td>-5.0</td><td>-2.0</td><td>2354</td><td>820</td><td>286.0</td><td>0.0</td><td><em>missing</em></td><td>2611.0</td></tr><tr><th>2</th><td>2020-01-02</td><td>B6</td><td>N987JT</td><td>988</td><td>LAX</td><td>BOS</td><td>16.0</td><td>9.0</td><td>-14.0</td><td>-25.0</td><td>2345</td><td>757</td><td>287.0</td><td>0.0</td><td><em>missing</em></td><td>2611.0</td></tr><tr><th>3</th><td>2020-01-03</td><td>B6</td><td>N986JB</td><td>988</td><td>LAX</td><td>BOS</td><td>24.0</td><td>17.0</td><td>-9.0</td><td>3.0</td><td>2350</td><td>825</td><td>294.0</td><td>0.0</td><td><em>missing</em></td><td>2611.0</td></tr><tr><th>4</th><td>2020-01-04</td><td>B6</td><td>N964JT</td><td>988</td><td>LAX</td><td>BOS</td><td>16.0</td><td>1.0</td><td>1.0</td><td>-28.0</td><td>2400</td><td>754</td><td>277.0</td><td>0.0</td><td><em>missing</em></td><td>2611.0</td></tr><tr><th>5</th><td>2020-01-05</td><td>B6</td><td>N981JT</td><td>988</td><td>LAX</td><td>BOS</td><td>22.0</td><td>8.0</td><td>-4.0</td><td>-25.0</td><td>2355</td><td>757</td><td>272.0</td><td>0.0</td><td><em>missing</em></td><td>2611.0</td></tr><tr><th>6</th><td>2020-01-06</td><td>B6</td><td>N961JT</td><td>988</td><td>LAX</td><td>BOS</td><td>22.0</td><td>11.0</td><td>-2.0</td><td>-7.0</td><td>2357</td><td>815</td><td>285.0</td><td>0.0</td><td><em>missing</em></td><td>2611.0</td></tr><tr><th>7</th><td>2020-01-07</td><td>B6</td><td>N935JB</td><td>988</td><td>LAX</td><td>BOS</td><td>20.0</td><td>2.0</td><td>-9.0</td><td>-23.0</td><td>2350</td><td>759</td><td>287.0</td><td>0.0</td><td><em>missing</em></td><td>2611.0</td></tr><tr><th>8</th><td>2020-01-08</td><td>B6</td><td>N947JB</td><td>988</td><td>LAX</td><td>BOS</td><td>11.0</td><td>8.0</td><td>-14.0</td><td>-23.0</td><td>2345</td><td>759</td><td>295.0</td><td>0.0</td><td><em>missing</em></td><td>2611.0</td></tr><tr><th>9</th><td>2020-01-09</td><td>B6</td><td>N980JT</td><td>988</td><td>LAX</td><td>BOS</td><td>13.0</td><td>15.0</td><td>-6.0</td><td>-13.0</td><td>2149</td><td>604</td><td>287.0</td><td>0.0</td><td><em>missing</em></td><td>2611.0</td></tr><tr><th>10</th><td>2020-01-10</td><td>B6</td><td>N968JT</td><td>988</td><td>LAX</td><td>BOS</td><td>17.0</td><td>6.0</td><td>-3.0</td><td>-11.0</td><td>2152</td><td>606</td><td>291.0</td><td>0.0</td><td><em>missing</em></td><td>2611.0</td></tr><tr><th>&vellip;</th><td>&vellip;</td><td>&vellip;</td><td>&vellip;</td><td>&vellip;</td><td>&vellip;</td><td>&vellip;</td><td>&vellip;</td><td>&vellip;</td><td>&vellip;</td><td>&vellip;</td><td>&vellip;</td><td>&vellip;</td><td>&vellip;</td><td>&vellip;</td><td>&vellip;</td><td>&vellip;</td></tr></tbody></table>"
      ],
      "text/latex": [
       "\\begin{tabular}{r|cccccccccccccccc}\n",
       "\t& FlightDate & IATA & Tail\\_Number & Flight\\_Number & Origin & Dest & TaxiOut & TaxiIn & DepDelay & ArrDelay & DepTime & ArrTime & AirTime & Cancelled & CancellationCode & Distance\\\\\n",
       "\t\\hline\n",
       "\t& identity & identity & identity & identity & identity & identity & identity & identity & identity & identity & identity & identity & identity & identity & identity & identity\\\\\n",
       "\t\\hline\n",
       "\t& Date? & String? & String? & Int64? & String? & String? & Float64? & Float64? & Float64? & Float64? & Int64? & Int64? & Float64? & Float64? & String? & Float64?\\\\\n",
       "\t\\hline\n",
       "\t1 & 2020-01-01 & B6 & N947JB & 988 & LAX & BOS & 26.0 & 14.0 & -5.0 & -2.0 & 2354 & 820 & 286.0 & 0.0 & \\emph{missing} & 2611.0 \\\\\n",
       "\t2 & 2020-01-02 & B6 & N987JT & 988 & LAX & BOS & 16.0 & 9.0 & -14.0 & -25.0 & 2345 & 757 & 287.0 & 0.0 & \\emph{missing} & 2611.0 \\\\\n",
       "\t3 & 2020-01-03 & B6 & N986JB & 988 & LAX & BOS & 24.0 & 17.0 & -9.0 & 3.0 & 2350 & 825 & 294.0 & 0.0 & \\emph{missing} & 2611.0 \\\\\n",
       "\t4 & 2020-01-04 & B6 & N964JT & 988 & LAX & BOS & 16.0 & 1.0 & 1.0 & -28.0 & 2400 & 754 & 277.0 & 0.0 & \\emph{missing} & 2611.0 \\\\\n",
       "\t5 & 2020-01-05 & B6 & N981JT & 988 & LAX & BOS & 22.0 & 8.0 & -4.0 & -25.0 & 2355 & 757 & 272.0 & 0.0 & \\emph{missing} & 2611.0 \\\\\n",
       "\t6 & 2020-01-06 & B6 & N961JT & 988 & LAX & BOS & 22.0 & 11.0 & -2.0 & -7.0 & 2357 & 815 & 285.0 & 0.0 & \\emph{missing} & 2611.0 \\\\\n",
       "\t7 & 2020-01-07 & B6 & N935JB & 988 & LAX & BOS & 20.0 & 2.0 & -9.0 & -23.0 & 2350 & 759 & 287.0 & 0.0 & \\emph{missing} & 2611.0 \\\\\n",
       "\t8 & 2020-01-08 & B6 & N947JB & 988 & LAX & BOS & 11.0 & 8.0 & -14.0 & -23.0 & 2345 & 759 & 295.0 & 0.0 & \\emph{missing} & 2611.0 \\\\\n",
       "\t9 & 2020-01-09 & B6 & N980JT & 988 & LAX & BOS & 13.0 & 15.0 & -6.0 & -13.0 & 2149 & 604 & 287.0 & 0.0 & \\emph{missing} & 2611.0 \\\\\n",
       "\t10 & 2020-01-10 & B6 & N968JT & 988 & LAX & BOS & 17.0 & 6.0 & -3.0 & -11.0 & 2152 & 606 & 291.0 & 0.0 & \\emph{missing} & 2611.0 \\\\\n",
       "\t$\\dots$ & $\\dots$ & $\\dots$ & $\\dots$ & $\\dots$ & $\\dots$ & $\\dots$ & $\\dots$ & $\\dots$ & $\\dots$ & $\\dots$ & $\\dots$ & $\\dots$ & $\\dots$ & $\\dots$ & $\\dots$ & $\\dots$ \\\\\n",
       "\\end{tabular}\n"
      ],
      "text/plain": [
       "\u001b[1m467402×16 Dataset\u001b[0m\n",
       "\u001b[1m    Row \u001b[0m│\u001b[1m FlightDate \u001b[0m\u001b[1m IATA     \u001b[0m\u001b[1m Tail_Number \u001b[0m\u001b[1m Flight_Number \u001b[0m\u001b[1m Origin   \u001b[0m\u001b[1m Dest     \u001b[0m\u001b[1m TaxiOut  \u001b[0m\u001b[1m TaxiIn   \u001b[0m\u001b[1m DepDelay \u001b[0m\u001b[1m ArrDelay \u001b[0m\u001b[1m DepTime  \u001b[0m\u001b[1m ArrTime  \u001b[0m\u001b[1m AirTime  \u001b[0m\u001b[1m Cancelled \u001b[0m\u001b[1m CancellationCode \u001b[0m\u001b[1m Distance \u001b[0m\n",
       "        │\u001b[90m identity   \u001b[0m\u001b[90m identity \u001b[0m\u001b[90m identity    \u001b[0m\u001b[90m identity      \u001b[0m\u001b[90m identity \u001b[0m\u001b[90m identity \u001b[0m\u001b[90m identity \u001b[0m\u001b[90m identity \u001b[0m\u001b[90m identity \u001b[0m\u001b[90m identity \u001b[0m\u001b[90m identity \u001b[0m\u001b[90m identity \u001b[0m\u001b[90m identity \u001b[0m\u001b[90m identity  \u001b[0m\u001b[90m identity         \u001b[0m\u001b[90m identity \u001b[0m\n",
       "        │\u001b[90m Date?      \u001b[0m\u001b[90m String?  \u001b[0m\u001b[90m String?     \u001b[0m\u001b[90m Int64?        \u001b[0m\u001b[90m String?  \u001b[0m\u001b[90m String?  \u001b[0m\u001b[90m Float64? \u001b[0m\u001b[90m Float64? \u001b[0m\u001b[90m Float64? \u001b[0m\u001b[90m Float64? \u001b[0m\u001b[90m Int64?   \u001b[0m\u001b[90m Int64?   \u001b[0m\u001b[90m Float64? \u001b[0m\u001b[90m Float64?  \u001b[0m\u001b[90m String?          \u001b[0m\u001b[90m Float64? \u001b[0m\n",
       "────────┼───────────────────────────────────────────────────────────────────────────────────────────────────────────────────────────────────────────────────────────────────────────────────\n",
       "   ⋮    │     ⋮          ⋮           ⋮             ⋮           ⋮         ⋮         ⋮         ⋮         ⋮         ⋮         ⋮         ⋮         ⋮          ⋮             ⋮             ⋮\n",
       "\u001b[36m                                                                                                                                                                         467402 rows omitted\u001b[0m"
      ]
     },
     "execution_count": 12,
     "metadata": {},
     "output_type": "execute_result"
    }
   ],
   "source": [
    "removeformat!(flights, 1:2)"
   ]
  },
  {
   "cell_type": "markdown",
   "metadata": {},
   "source": [
    "## Select: pick columns by name"
   ]
  },
  {
   "cell_type": "markdown",
   "metadata": {},
   "source": [
    "You can use the `select!`/`select` functions to select a subset of columns, unlike `select!`, `select` makes a copy of data"
   ]
  },
  {
   "cell_type": "code",
   "execution_count": 13,
   "metadata": {},
   "outputs": [
    {
     "data": {
      "text/html": [
       "<table class=\"data-set\"><thead><tr><th></th><th>DepTime</th><th>ArrTime</th><th>Flight_Number</th></tr><tr><th></th><th>identity</th><th>identity</th><th>identity</th></tr><tr><th></th><th title=\"Union{Missing, Int64}\">Int64?</th><th title=\"Union{Missing, Int64}\">Int64?</th><th title=\"Union{Missing, Int64}\">Int64?</th></tr></thead><tbody><p>467,402 rows × 3 columns</p><tr><th>1</th><td>2354</td><td>820</td><td>988</td></tr><tr><th>2</th><td>2345</td><td>757</td><td>988</td></tr><tr><th>3</th><td>2350</td><td>825</td><td>988</td></tr><tr><th>4</th><td>2400</td><td>754</td><td>988</td></tr><tr><th>5</th><td>2355</td><td>757</td><td>988</td></tr><tr><th>6</th><td>2357</td><td>815</td><td>988</td></tr><tr><th>7</th><td>2350</td><td>759</td><td>988</td></tr><tr><th>8</th><td>2345</td><td>759</td><td>988</td></tr><tr><th>9</th><td>2149</td><td>604</td><td>988</td></tr><tr><th>10</th><td>2152</td><td>606</td><td>988</td></tr><tr><th>&vellip;</th><td>&vellip;</td><td>&vellip;</td><td>&vellip;</td></tr></tbody></table>"
      ],
      "text/latex": [
       "\\begin{tabular}{r|ccc}\n",
       "\t& DepTime & ArrTime & Flight\\_Number\\\\\n",
       "\t\\hline\n",
       "\t& identity & identity & identity\\\\\n",
       "\t\\hline\n",
       "\t& Int64? & Int64? & Int64?\\\\\n",
       "\t\\hline\n",
       "\t1 & 2354 & 820 & 988 \\\\\n",
       "\t2 & 2345 & 757 & 988 \\\\\n",
       "\t3 & 2350 & 825 & 988 \\\\\n",
       "\t4 & 2400 & 754 & 988 \\\\\n",
       "\t5 & 2355 & 757 & 988 \\\\\n",
       "\t6 & 2357 & 815 & 988 \\\\\n",
       "\t7 & 2350 & 759 & 988 \\\\\n",
       "\t8 & 2345 & 759 & 988 \\\\\n",
       "\t9 & 2149 & 604 & 988 \\\\\n",
       "\t10 & 2152 & 606 & 988 \\\\\n",
       "\t$\\dots$ & $\\dots$ & $\\dots$ & $\\dots$ \\\\\n",
       "\\end{tabular}\n"
      ],
      "text/plain": [
       "\u001b[1m467402×3 Dataset\u001b[0m\n",
       "\u001b[1m    Row \u001b[0m│\u001b[1m DepTime  \u001b[0m\u001b[1m ArrTime  \u001b[0m\u001b[1m Flight_Number \u001b[0m\n",
       "        │\u001b[90m identity \u001b[0m\u001b[90m identity \u001b[0m\u001b[90m identity      \u001b[0m\n",
       "        │\u001b[90m Int64?   \u001b[0m\u001b[90m Int64?   \u001b[0m\u001b[90m Int64?        \u001b[0m\n",
       "────────┼───────────────────────────────────\n",
       "   ⋮    │    ⋮         ⋮            ⋮\n",
       "\u001b[36m                         467402 rows omitted\u001b[0m"
      ]
     },
     "execution_count": 13,
     "metadata": {},
     "output_type": "execute_result"
    }
   ],
   "source": [
    "select(flights, :DepTime, :ArrTime, :Flight_Number)"
   ]
  },
  {
   "cell_type": "markdown",
   "metadata": {},
   "source": [
    "`InMemoryDatasets` provides different ways for referring to multiple columns. For instance, let's select all columns between `:FlightDate` and `:Dest` as well as all columns containing \"Taxi\" or \"Delay\" in their names. `Between` selects columns between two specified extremes, and regular expressions can be used to select columns with specified patterns."
   ]
  },
  {
   "cell_type": "code",
   "execution_count": 14,
   "metadata": {},
   "outputs": [
    {
     "data": {
      "text/html": [
       "<table class=\"data-set\"><thead><tr><th></th><th>FlightDate</th><th>IATA</th><th>Tail_Number</th><th>Flight_Number</th><th>Origin</th><th>Dest</th><th>TaxiOut</th><th>TaxiIn</th><th>DepDelay</th><th>ArrDelay</th></tr><tr><th></th><th>identity</th><th>identity</th><th>identity</th><th>identity</th><th>identity</th><th>identity</th><th>identity</th><th>identity</th><th>identity</th><th>identity</th></tr><tr><th></th><th title=\"Union{Missing, Date}\">Date?</th><th title=\"Union{Missing, String}\">String?</th><th title=\"Union{Missing, String}\">String?</th><th title=\"Union{Missing, Int64}\">Int64?</th><th title=\"Union{Missing, String}\">String?</th><th title=\"Union{Missing, String}\">String?</th><th title=\"Union{Missing, Float64}\">Float64?</th><th title=\"Union{Missing, Float64}\">Float64?</th><th title=\"Union{Missing, Float64}\">Float64?</th><th title=\"Union{Missing, Float64}\">Float64?</th></tr></thead><tbody><p>467,402 rows × 10 columns</p><tr><th>1</th><td>2020-01-01</td><td>B6</td><td>N947JB</td><td>988</td><td>LAX</td><td>BOS</td><td>26.0</td><td>14.0</td><td>-5.0</td><td>-2.0</td></tr><tr><th>2</th><td>2020-01-02</td><td>B6</td><td>N987JT</td><td>988</td><td>LAX</td><td>BOS</td><td>16.0</td><td>9.0</td><td>-14.0</td><td>-25.0</td></tr><tr><th>3</th><td>2020-01-03</td><td>B6</td><td>N986JB</td><td>988</td><td>LAX</td><td>BOS</td><td>24.0</td><td>17.0</td><td>-9.0</td><td>3.0</td></tr><tr><th>4</th><td>2020-01-04</td><td>B6</td><td>N964JT</td><td>988</td><td>LAX</td><td>BOS</td><td>16.0</td><td>1.0</td><td>1.0</td><td>-28.0</td></tr><tr><th>5</th><td>2020-01-05</td><td>B6</td><td>N981JT</td><td>988</td><td>LAX</td><td>BOS</td><td>22.0</td><td>8.0</td><td>-4.0</td><td>-25.0</td></tr><tr><th>6</th><td>2020-01-06</td><td>B6</td><td>N961JT</td><td>988</td><td>LAX</td><td>BOS</td><td>22.0</td><td>11.0</td><td>-2.0</td><td>-7.0</td></tr><tr><th>7</th><td>2020-01-07</td><td>B6</td><td>N935JB</td><td>988</td><td>LAX</td><td>BOS</td><td>20.0</td><td>2.0</td><td>-9.0</td><td>-23.0</td></tr><tr><th>8</th><td>2020-01-08</td><td>B6</td><td>N947JB</td><td>988</td><td>LAX</td><td>BOS</td><td>11.0</td><td>8.0</td><td>-14.0</td><td>-23.0</td></tr><tr><th>9</th><td>2020-01-09</td><td>B6</td><td>N980JT</td><td>988</td><td>LAX</td><td>BOS</td><td>13.0</td><td>15.0</td><td>-6.0</td><td>-13.0</td></tr><tr><th>10</th><td>2020-01-10</td><td>B6</td><td>N968JT</td><td>988</td><td>LAX</td><td>BOS</td><td>17.0</td><td>6.0</td><td>-3.0</td><td>-11.0</td></tr><tr><th>&vellip;</th><td>&vellip;</td><td>&vellip;</td><td>&vellip;</td><td>&vellip;</td><td>&vellip;</td><td>&vellip;</td><td>&vellip;</td><td>&vellip;</td><td>&vellip;</td><td>&vellip;</td></tr></tbody></table>"
      ],
      "text/latex": [
       "\\begin{tabular}{r|cccccccccc}\n",
       "\t& FlightDate & IATA & Tail\\_Number & Flight\\_Number & Origin & Dest & TaxiOut & TaxiIn & DepDelay & ArrDelay\\\\\n",
       "\t\\hline\n",
       "\t& identity & identity & identity & identity & identity & identity & identity & identity & identity & identity\\\\\n",
       "\t\\hline\n",
       "\t& Date? & String? & String? & Int64? & String? & String? & Float64? & Float64? & Float64? & Float64?\\\\\n",
       "\t\\hline\n",
       "\t1 & 2020-01-01 & B6 & N947JB & 988 & LAX & BOS & 26.0 & 14.0 & -5.0 & -2.0 \\\\\n",
       "\t2 & 2020-01-02 & B6 & N987JT & 988 & LAX & BOS & 16.0 & 9.0 & -14.0 & -25.0 \\\\\n",
       "\t3 & 2020-01-03 & B6 & N986JB & 988 & LAX & BOS & 24.0 & 17.0 & -9.0 & 3.0 \\\\\n",
       "\t4 & 2020-01-04 & B6 & N964JT & 988 & LAX & BOS & 16.0 & 1.0 & 1.0 & -28.0 \\\\\n",
       "\t5 & 2020-01-05 & B6 & N981JT & 988 & LAX & BOS & 22.0 & 8.0 & -4.0 & -25.0 \\\\\n",
       "\t6 & 2020-01-06 & B6 & N961JT & 988 & LAX & BOS & 22.0 & 11.0 & -2.0 & -7.0 \\\\\n",
       "\t7 & 2020-01-07 & B6 & N935JB & 988 & LAX & BOS & 20.0 & 2.0 & -9.0 & -23.0 \\\\\n",
       "\t8 & 2020-01-08 & B6 & N947JB & 988 & LAX & BOS & 11.0 & 8.0 & -14.0 & -23.0 \\\\\n",
       "\t9 & 2020-01-09 & B6 & N980JT & 988 & LAX & BOS & 13.0 & 15.0 & -6.0 & -13.0 \\\\\n",
       "\t10 & 2020-01-10 & B6 & N968JT & 988 & LAX & BOS & 17.0 & 6.0 & -3.0 & -11.0 \\\\\n",
       "\t$\\dots$ & $\\dots$ & $\\dots$ & $\\dots$ & $\\dots$ & $\\dots$ & $\\dots$ & $\\dots$ & $\\dots$ & $\\dots$ & $\\dots$ \\\\\n",
       "\\end{tabular}\n"
      ],
      "text/plain": [
       "\u001b[1m467402×10 Dataset\u001b[0m\n",
       "\u001b[1m    Row \u001b[0m│\u001b[1m FlightDate \u001b[0m\u001b[1m IATA     \u001b[0m\u001b[1m Tail_Number \u001b[0m\u001b[1m Flight_Number \u001b[0m\u001b[1m Origin   \u001b[0m\u001b[1m Dest     \u001b[0m\u001b[1m TaxiOut  \u001b[0m\u001b[1m TaxiIn   \u001b[0m\u001b[1m DepDelay \u001b[0m\u001b[1m ArrDelay \u001b[0m\n",
       "        │\u001b[90m identity   \u001b[0m\u001b[90m identity \u001b[0m\u001b[90m identity    \u001b[0m\u001b[90m identity      \u001b[0m\u001b[90m identity \u001b[0m\u001b[90m identity \u001b[0m\u001b[90m identity \u001b[0m\u001b[90m identity \u001b[0m\u001b[90m identity \u001b[0m\u001b[90m identity \u001b[0m\n",
       "        │\u001b[90m Date?      \u001b[0m\u001b[90m String?  \u001b[0m\u001b[90m String?     \u001b[0m\u001b[90m Int64?        \u001b[0m\u001b[90m String?  \u001b[0m\u001b[90m String?  \u001b[0m\u001b[90m Float64? \u001b[0m\u001b[90m Float64? \u001b[0m\u001b[90m Float64? \u001b[0m\u001b[90m Float64? \u001b[0m\n",
       "────────┼──────────────────────────────────────────────────────────────────────────────────────────────────────────────\n",
       "   ⋮    │     ⋮          ⋮           ⋮             ⋮           ⋮         ⋮         ⋮         ⋮         ⋮         ⋮\n",
       "\u001b[36m                                                                                                    467402 rows omitted\u001b[0m"
      ]
     },
     "execution_count": 14,
     "metadata": {},
     "output_type": "execute_result"
    }
   ],
   "source": [
    "select(flights, Between(:FlightDate, :Dest), r\"Taxi|Delay\")"
   ]
  },
  {
   "cell_type": "markdown",
   "metadata": {},
   "source": [
    "## Applying several operations"
   ]
  },
  {
   "cell_type": "markdown",
   "metadata": {},
   "source": [
    "There are several packages in `Julia` to apply several operations one after the other, here we demonstrate the `Chain` package.\n",
    "\n",
    "Let's assume we want to select `:IATA` and `:DepDelay` columns and filter for delays over 60 minutes. Here we assume we want a copy of the result (compared to view of the result). Note that passing `missings = false` to `filter` means that we like to drop missing values from the results. By passing a view of `flights` we reduce memory usage. The `@chain` macro automatically fills the first argument of the chained functions, thus, `flights` becomes the first argument of `view`, and the output of `view` becomes the first argument of `filter`."
   ]
  },
  {
   "cell_type": "code",
   "execution_count": 15,
   "metadata": {},
   "outputs": [
    {
     "data": {
      "text/html": [
       "<table class=\"data-set\"><thead><tr><th></th><th>IATA</th><th>DepDelay</th></tr><tr><th></th><th>identity</th><th>identity</th></tr><tr><th></th><th title=\"Union{Missing, String}\">String?</th><th title=\"Union{Missing, Float64}\">Float64?</th></tr></thead><tbody><p>10,614 rows × 2 columns</p><tr><th>1</th><td>B6</td><td>240.0</td></tr><tr><th>2</th><td>B6</td><td>164.0</td></tr><tr><th>3</th><td>B6</td><td>61.0</td></tr><tr><th>4</th><td>B6</td><td>93.0</td></tr><tr><th>5</th><td>B6</td><td>93.0</td></tr><tr><th>6</th><td>B6</td><td>92.0</td></tr><tr><th>7</th><td>B6</td><td>80.0</td></tr><tr><th>8</th><td>B6</td><td>101.0</td></tr><tr><th>9</th><td>B6</td><td>99.0</td></tr><tr><th>10</th><td>B6</td><td>70.0</td></tr><tr><th>&vellip;</th><td>&vellip;</td><td>&vellip;</td></tr></tbody></table>"
      ],
      "text/latex": [
       "\\begin{tabular}{r|cc}\n",
       "\t& IATA & DepDelay\\\\\n",
       "\t\\hline\n",
       "\t& identity & identity\\\\\n",
       "\t\\hline\n",
       "\t& String? & Float64?\\\\\n",
       "\t\\hline\n",
       "\t1 & B6 & 240.0 \\\\\n",
       "\t2 & B6 & 164.0 \\\\\n",
       "\t3 & B6 & 61.0 \\\\\n",
       "\t4 & B6 & 93.0 \\\\\n",
       "\t5 & B6 & 93.0 \\\\\n",
       "\t6 & B6 & 92.0 \\\\\n",
       "\t7 & B6 & 80.0 \\\\\n",
       "\t8 & B6 & 101.0 \\\\\n",
       "\t9 & B6 & 99.0 \\\\\n",
       "\t10 & B6 & 70.0 \\\\\n",
       "\t$\\dots$ & $\\dots$ & $\\dots$ \\\\\n",
       "\\end{tabular}\n"
      ],
      "text/plain": [
       "\u001b[1m10614×2 Dataset\u001b[0m\n",
       "\u001b[1m   Row \u001b[0m│\u001b[1m IATA     \u001b[0m\u001b[1m DepDelay \u001b[0m\n",
       "       │\u001b[90m identity \u001b[0m\u001b[90m identity \u001b[0m\n",
       "       │\u001b[90m String?  \u001b[0m\u001b[90m Float64? \u001b[0m\n",
       "───────┼────────────────────\n",
       "   ⋮   │    ⋮         ⋮\n",
       "\u001b[36m          10614 rows omitted\u001b[0m"
      ]
     },
     "execution_count": 15,
     "metadata": {},
     "output_type": "execute_result"
    }
   ],
   "source": [
    "using Chain\n",
    "delayed =  @chain flights begin\n",
    "    view(:, [:IATA, :DepDelay])\n",
    "    filter(2, by = >(60), missings = false)\n",
    "end"
   ]
  },
  {
   "cell_type": "markdown",
   "metadata": {},
   "source": [
    "## Reorder rows"
   ]
  },
  {
   "cell_type": "markdown",
   "metadata": {},
   "source": [
    "Select `:IATA` and `:DepDelay` columns while sorted by `:DepDelay`. Note that in the following code, `flights[!, [:IATA, :DepDelay]]` is equivalent to `view(flights, :, [:IATA, :DepDelay])`. Further notice that, by defult, calling `sort` on a view of a data set creates a new data set, however, passing `view = true` creates a view of sorted values.\n",
    "\n",
    "> Note `sort!` and `sort` reorder observations instead of sorting observations by reference (i.e. view of sorted data), however, we can use `groupby` or the combination of `sortperm` and `view` (or by using sort and view of data while passing `view = true`) to create a sorting data set by reference."
   ]
  },
  {
   "cell_type": "code",
   "execution_count": 16,
   "metadata": {},
   "outputs": [
    {
     "data": {
      "text/html": [
       "<table class=\"data-set\"><thead><tr><th></th><th>IATA</th><th>DepDelay</th></tr><tr><th></th><th>identity</th><th>identity</th></tr><tr><th></th><th title=\"Union{Missing, String}\">String?</th><th title=\"Union{Missing, Float64}\">Float64?</th></tr></thead><tbody><p>467,402 rows × 2 columns</p><p><b> Sorted Dataset </p><p> Sorted by: DepDelay </p><tr><th>1</th><td>OO</td><td>-66.0</td></tr><tr><th>2</th><td>OO</td><td>-61.0</td></tr><tr><th>3</th><td>G4</td><td>-49.0</td></tr><tr><th>4</th><td>OO</td><td>-47.0</td></tr><tr><th>5</th><td>WN</td><td>-40.0</td></tr><tr><th>6</th><td>OO</td><td>-40.0</td></tr><tr><th>7</th><td>B6</td><td>-40.0</td></tr><tr><th>8</th><td>UA</td><td>-35.0</td></tr><tr><th>9</th><td>UA</td><td>-35.0</td></tr><tr><th>10</th><td>B6</td><td>-35.0</td></tr><tr><th>&vellip;</th><td>&vellip;</td><td>&vellip;</td></tr></tbody></table>"
      ],
      "text/latex": [
       "\\begin{tabular}{r|cc}\n",
       "\t& IATA & DepDelay\\\\\n",
       "\t\\hline\n",
       "\t& identity & identity\\\\\n",
       "\t\\hline\n",
       "\t& String? & Float64?\\\\\n",
       "\t\\hline\n",
       "\t1 & OO & -66.0 \\\\\n",
       "\t2 & OO & -61.0 \\\\\n",
       "\t3 & G4 & -49.0 \\\\\n",
       "\t4 & OO & -47.0 \\\\\n",
       "\t5 & WN & -40.0 \\\\\n",
       "\t6 & OO & -40.0 \\\\\n",
       "\t7 & B6 & -40.0 \\\\\n",
       "\t8 & UA & -35.0 \\\\\n",
       "\t9 & UA & -35.0 \\\\\n",
       "\t10 & B6 & -35.0 \\\\\n",
       "\t$\\dots$ & $\\dots$ & $\\dots$ \\\\\n",
       "\\end{tabular}\n"
      ],
      "text/plain": [
       "\u001b[1m467402×2 Sorted Dataset\u001b[0m\n",
       "\u001b[1m Sorted by: DepDelay\u001b[0m\n",
       "\u001b[1m    Row \u001b[0m│\u001b[1m IATA     \u001b[0m\u001b[1m DepDelay  \u001b[0m\n",
       "        │\u001b[90m identity \u001b[0m\u001b[90m identity  \u001b[0m\n",
       "        │\u001b[90m String?  \u001b[0m\u001b[90m Float64?  \u001b[0m\n",
       "   ⋮    │    ⋮          ⋮\n",
       "\u001b[36m           467402 rows omitted\u001b[0m"
      ]
     },
     "execution_count": 16,
     "metadata": {},
     "output_type": "execute_result"
    }
   ],
   "source": [
    "sort(flights[!, [:IATA, :DepDelay]], 2)"
   ]
  },
  {
   "cell_type": "markdown",
   "metadata": {},
   "source": [
    "or, in reverse order:"
   ]
  },
  {
   "cell_type": "code",
   "execution_count": 17,
   "metadata": {},
   "outputs": [
    {
     "data": {
      "text/html": [
       "<table class=\"data-set\"><thead><tr><th></th><th>IATA</th><th>DepDelay</th></tr><tr><th></th><th>identity</th><th>identity</th></tr><tr><th></th><th title=\"Union{Missing, String}\">String?</th><th title=\"Union{Missing, Float64}\">Float64?</th></tr></thead><tbody><p>467,402 rows × 2 columns</p><p><b> Sorted Dataset </p><p> Sorted by: DepDelay </p><tr><th>1</th><td>B6</td><td><em>missing</em></td></tr><tr><th>2</th><td>HA</td><td><em>missing</em></td></tr><tr><th>3</th><td>AS</td><td><em>missing</em></td></tr><tr><th>4</th><td>AS</td><td><em>missing</em></td></tr><tr><th>5</th><td>AS</td><td><em>missing</em></td></tr><tr><th>6</th><td>AS</td><td><em>missing</em></td></tr><tr><th>7</th><td>AS</td><td><em>missing</em></td></tr><tr><th>8</th><td>AS</td><td><em>missing</em></td></tr><tr><th>9</th><td>AS</td><td><em>missing</em></td></tr><tr><th>10</th><td>AS</td><td><em>missing</em></td></tr><tr><th>&vellip;</th><td>&vellip;</td><td>&vellip;</td></tr></tbody></table>"
      ],
      "text/latex": [
       "\\begin{tabular}{r|cc}\n",
       "\t& IATA & DepDelay\\\\\n",
       "\t\\hline\n",
       "\t& identity & identity\\\\\n",
       "\t\\hline\n",
       "\t& String? & Float64?\\\\\n",
       "\t\\hline\n",
       "\t1 & B6 & \\emph{missing} \\\\\n",
       "\t2 & HA & \\emph{missing} \\\\\n",
       "\t3 & AS & \\emph{missing} \\\\\n",
       "\t4 & AS & \\emph{missing} \\\\\n",
       "\t5 & AS & \\emph{missing} \\\\\n",
       "\t6 & AS & \\emph{missing} \\\\\n",
       "\t7 & AS & \\emph{missing} \\\\\n",
       "\t8 & AS & \\emph{missing} \\\\\n",
       "\t9 & AS & \\emph{missing} \\\\\n",
       "\t10 & AS & \\emph{missing} \\\\\n",
       "\t$\\dots$ & $\\dots$ & $\\dots$ \\\\\n",
       "\\end{tabular}\n"
      ],
      "text/plain": [
       "\u001b[1m467402×2 Sorted Dataset\u001b[0m\n",
       "\u001b[1m Sorted by: DepDelay\u001b[0m\n",
       "\u001b[1m    Row \u001b[0m│\u001b[1m IATA     \u001b[0m\u001b[1m DepDelay  \u001b[0m\n",
       "        │\u001b[90m identity \u001b[0m\u001b[90m identity  \u001b[0m\n",
       "        │\u001b[90m String?  \u001b[0m\u001b[90m Float64?  \u001b[0m\n",
       "   ⋮    │    ⋮          ⋮\n",
       "\u001b[36m           467402 rows omitted\u001b[0m"
      ]
     },
     "execution_count": 17,
     "metadata": {},
     "output_type": "execute_result"
    }
   ],
   "source": [
    "sort(flights[!, [:IATA, :DepDelay]], 2, rev = true)"
   ]
  },
  {
   "cell_type": "markdown",
   "metadata": {},
   "source": [
    "Since `missing` is larger than any number in `Julia`, we drop them and then resort to have a better view of large values. Using `view` helps us to avoid making copies of data."
   ]
  },
  {
   "cell_type": "code",
   "execution_count": 18,
   "metadata": {},
   "outputs": [
    {
     "data": {
      "text/html": [
       "<table class=\"data-set\"><thead><tr><th></th><th>IATA</th><th>DepDelay</th></tr><tr><th></th><th>identity</th><th>identity</th></tr><tr><th></th><th title=\"Union{Missing, String}\">String?</th><th title=\"Union{Missing, Float64}\">Float64?</th></tr></thead><tbody><p>438,469 rows × 2 columns</p><p><b> SubDataset (view of Dataset)</p><tr><th>1</th><td>AA</td><td>2466.0</td></tr><tr><th>2</th><td>AA</td><td>2019.0</td></tr><tr><th>3</th><td>AA</td><td>1740.0</td></tr><tr><th>4</th><td>AA</td><td>1639.0</td></tr><tr><th>5</th><td>AA</td><td>1596.0</td></tr><tr><th>6</th><td>AA</td><td>1545.0</td></tr><tr><th>7</th><td>OO</td><td>1531.0</td></tr><tr><th>8</th><td>G4</td><td>1516.0</td></tr><tr><th>9</th><td>AA</td><td>1507.0</td></tr><tr><th>10</th><td>AA</td><td>1496.0</td></tr><tr><th>&vellip;</th><td>&vellip;</td><td>&vellip;</td></tr></tbody></table>"
      ],
      "text/latex": [
       "\\begin{tabular}{r|cc}\n",
       "\t& IATA & DepDelay\\\\\n",
       "\t\\hline\n",
       "\t& identity & identity\\\\\n",
       "\t\\hline\n",
       "\t& String? & Float64?\\\\\n",
       "\t\\hline\n",
       "\t1 & AA & 2466.0 \\\\\n",
       "\t2 & AA & 2019.0 \\\\\n",
       "\t3 & AA & 1740.0 \\\\\n",
       "\t4 & AA & 1639.0 \\\\\n",
       "\t5 & AA & 1596.0 \\\\\n",
       "\t6 & AA & 1545.0 \\\\\n",
       "\t7 & OO & 1531.0 \\\\\n",
       "\t8 & G4 & 1516.0 \\\\\n",
       "\t9 & AA & 1507.0 \\\\\n",
       "\t10 & AA & 1496.0 \\\\\n",
       "\t$\\dots$ & $\\dots$ & $\\dots$ \\\\\n",
       "\\end{tabular}\n"
      ],
      "text/plain": [
       "\u001b[1m438469×2 SubDataset\u001b[0m\n",
       "\u001b[1m    Row \u001b[0m│\u001b[1m IATA     \u001b[0m\u001b[1m DepDelay \u001b[0m\n",
       "        │\u001b[90m identity \u001b[0m\u001b[90m identity \u001b[0m\n",
       "        │\u001b[90m String?  \u001b[0m\u001b[90m Float64? \u001b[0m\n",
       "────────┼────────────────────\n",
       "   ⋮    │    ⋮         ⋮\n",
       "\u001b[36m          438469 rows omitted\u001b[0m"
      ]
     },
     "execution_count": 18,
     "metadata": {},
     "output_type": "execute_result"
    }
   ],
   "source": [
    "sort(dropmissing(flights, :DepDelay, view = true)[!, [:IATA, :DepDelay]], 2, rev = true, view = true)"
   ]
  },
  {
   "cell_type": "markdown",
   "metadata": {},
   "source": [
    "## Add new columns"
   ]
  },
  {
   "cell_type": "markdown",
   "metadata": {},
   "source": [
    "Use the `modify!` or `modify` (`modify` makes a copy of data) functions to add a column to an existing dataset. In the following example we calculate speed, by dividing distance by air time. Here, we multiply `:Speed` by 60 since `:AirTime` is in minutes - it is also recommended to define functions outside `modify!`, since they will be reusable and the second time you call them no compilation is needed."
   ]
  },
  {
   "cell_type": "code",
   "execution_count": 19,
   "metadata": {},
   "outputs": [
    {
     "data": {
      "text/html": [
       "<table class=\"data-set\"><thead><tr><th></th><th>FlightDate</th><th>IATA</th><th>Tail_Number</th><th>Flight_Number</th><th>Origin</th><th>Dest</th><th>TaxiOut</th><th>TaxiIn</th><th>DepDelay</th><th>ArrDelay</th><th>DepTime</th><th>ArrTime</th><th>AirTime</th><th>Cancelled</th><th>CancellationCode</th><th>Distance</th><th>Speed</th></tr><tr><th></th><th>identity</th><th>identity</th><th>identity</th><th>identity</th><th>identity</th><th>identity</th><th>identity</th><th>identity</th><th>identity</th><th>identity</th><th>identity</th><th>identity</th><th>identity</th><th>identity</th><th>identity</th><th>identity</th><th>identity</th></tr><tr><th></th><th title=\"Union{Missing, Date}\">Date?</th><th title=\"Union{Missing, String}\">String?</th><th title=\"Union{Missing, String}\">String?</th><th title=\"Union{Missing, Int64}\">Int64?</th><th title=\"Union{Missing, String}\">String?</th><th title=\"Union{Missing, String}\">String?</th><th title=\"Union{Missing, Float64}\">Float64?</th><th title=\"Union{Missing, Float64}\">Float64?</th><th title=\"Union{Missing, Float64}\">Float64?</th><th title=\"Union{Missing, Float64}\">Float64?</th><th title=\"Union{Missing, Int64}\">Int64?</th><th title=\"Union{Missing, Int64}\">Int64?</th><th title=\"Union{Missing, Float64}\">Float64?</th><th title=\"Union{Missing, Float64}\">Float64?</th><th title=\"Union{Missing, String}\">String?</th><th title=\"Union{Missing, Float64}\">Float64?</th><th title=\"Union{Missing, Float64}\">Float64?</th></tr></thead><tbody><p>467,402 rows × 17 columns</p><tr><th>1</th><td>2020-01-01</td><td>B6</td><td>N947JB</td><td>988</td><td>LAX</td><td>BOS</td><td>26.0</td><td>14.0</td><td>-5.0</td><td>-2.0</td><td>2354</td><td>820</td><td>286.0</td><td>0.0</td><td><em>missing</em></td><td>2611.0</td><td>547.762</td></tr><tr><th>2</th><td>2020-01-02</td><td>B6</td><td>N987JT</td><td>988</td><td>LAX</td><td>BOS</td><td>16.0</td><td>9.0</td><td>-14.0</td><td>-25.0</td><td>2345</td><td>757</td><td>287.0</td><td>0.0</td><td><em>missing</em></td><td>2611.0</td><td>545.854</td></tr><tr><th>3</th><td>2020-01-03</td><td>B6</td><td>N986JB</td><td>988</td><td>LAX</td><td>BOS</td><td>24.0</td><td>17.0</td><td>-9.0</td><td>3.0</td><td>2350</td><td>825</td><td>294.0</td><td>0.0</td><td><em>missing</em></td><td>2611.0</td><td>532.857</td></tr><tr><th>4</th><td>2020-01-04</td><td>B6</td><td>N964JT</td><td>988</td><td>LAX</td><td>BOS</td><td>16.0</td><td>1.0</td><td>1.0</td><td>-28.0</td><td>2400</td><td>754</td><td>277.0</td><td>0.0</td><td><em>missing</em></td><td>2611.0</td><td>565.56</td></tr><tr><th>5</th><td>2020-01-05</td><td>B6</td><td>N981JT</td><td>988</td><td>LAX</td><td>BOS</td><td>22.0</td><td>8.0</td><td>-4.0</td><td>-25.0</td><td>2355</td><td>757</td><td>272.0</td><td>0.0</td><td><em>missing</em></td><td>2611.0</td><td>575.956</td></tr><tr><th>6</th><td>2020-01-06</td><td>B6</td><td>N961JT</td><td>988</td><td>LAX</td><td>BOS</td><td>22.0</td><td>11.0</td><td>-2.0</td><td>-7.0</td><td>2357</td><td>815</td><td>285.0</td><td>0.0</td><td><em>missing</em></td><td>2611.0</td><td>549.684</td></tr><tr><th>7</th><td>2020-01-07</td><td>B6</td><td>N935JB</td><td>988</td><td>LAX</td><td>BOS</td><td>20.0</td><td>2.0</td><td>-9.0</td><td>-23.0</td><td>2350</td><td>759</td><td>287.0</td><td>0.0</td><td><em>missing</em></td><td>2611.0</td><td>545.854</td></tr><tr><th>8</th><td>2020-01-08</td><td>B6</td><td>N947JB</td><td>988</td><td>LAX</td><td>BOS</td><td>11.0</td><td>8.0</td><td>-14.0</td><td>-23.0</td><td>2345</td><td>759</td><td>295.0</td><td>0.0</td><td><em>missing</em></td><td>2611.0</td><td>531.051</td></tr><tr><th>9</th><td>2020-01-09</td><td>B6</td><td>N980JT</td><td>988</td><td>LAX</td><td>BOS</td><td>13.0</td><td>15.0</td><td>-6.0</td><td>-13.0</td><td>2149</td><td>604</td><td>287.0</td><td>0.0</td><td><em>missing</em></td><td>2611.0</td><td>545.854</td></tr><tr><th>10</th><td>2020-01-10</td><td>B6</td><td>N968JT</td><td>988</td><td>LAX</td><td>BOS</td><td>17.0</td><td>6.0</td><td>-3.0</td><td>-11.0</td><td>2152</td><td>606</td><td>291.0</td><td>0.0</td><td><em>missing</em></td><td>2611.0</td><td>538.351</td></tr><tr><th>&vellip;</th><td>&vellip;</td><td>&vellip;</td><td>&vellip;</td><td>&vellip;</td><td>&vellip;</td><td>&vellip;</td><td>&vellip;</td><td>&vellip;</td><td>&vellip;</td><td>&vellip;</td><td>&vellip;</td><td>&vellip;</td><td>&vellip;</td><td>&vellip;</td><td>&vellip;</td><td>&vellip;</td><td>&vellip;</td></tr></tbody></table>"
      ],
      "text/latex": [
       "\\begin{tabular}{r|ccccccccccccccccc}\n",
       "\t& FlightDate & IATA & Tail\\_Number & Flight\\_Number & Origin & Dest & TaxiOut & TaxiIn & DepDelay & ArrDelay & DepTime & ArrTime & AirTime & Cancelled & CancellationCode & Distance & Speed\\\\\n",
       "\t\\hline\n",
       "\t& identity & identity & identity & identity & identity & identity & identity & identity & identity & identity & identity & identity & identity & identity & identity & identity & identity\\\\\n",
       "\t\\hline\n",
       "\t& Date? & String? & String? & Int64? & String? & String? & Float64? & Float64? & Float64? & Float64? & Int64? & Int64? & Float64? & Float64? & String? & Float64? & Float64?\\\\\n",
       "\t\\hline\n",
       "\t1 & 2020-01-01 & B6 & N947JB & 988 & LAX & BOS & 26.0 & 14.0 & -5.0 & -2.0 & 2354 & 820 & 286.0 & 0.0 & \\emph{missing} & 2611.0 & 547.762 \\\\\n",
       "\t2 & 2020-01-02 & B6 & N987JT & 988 & LAX & BOS & 16.0 & 9.0 & -14.0 & -25.0 & 2345 & 757 & 287.0 & 0.0 & \\emph{missing} & 2611.0 & 545.854 \\\\\n",
       "\t3 & 2020-01-03 & B6 & N986JB & 988 & LAX & BOS & 24.0 & 17.0 & -9.0 & 3.0 & 2350 & 825 & 294.0 & 0.0 & \\emph{missing} & 2611.0 & 532.857 \\\\\n",
       "\t4 & 2020-01-04 & B6 & N964JT & 988 & LAX & BOS & 16.0 & 1.0 & 1.0 & -28.0 & 2400 & 754 & 277.0 & 0.0 & \\emph{missing} & 2611.0 & 565.56 \\\\\n",
       "\t5 & 2020-01-05 & B6 & N981JT & 988 & LAX & BOS & 22.0 & 8.0 & -4.0 & -25.0 & 2355 & 757 & 272.0 & 0.0 & \\emph{missing} & 2611.0 & 575.956 \\\\\n",
       "\t6 & 2020-01-06 & B6 & N961JT & 988 & LAX & BOS & 22.0 & 11.0 & -2.0 & -7.0 & 2357 & 815 & 285.0 & 0.0 & \\emph{missing} & 2611.0 & 549.684 \\\\\n",
       "\t7 & 2020-01-07 & B6 & N935JB & 988 & LAX & BOS & 20.0 & 2.0 & -9.0 & -23.0 & 2350 & 759 & 287.0 & 0.0 & \\emph{missing} & 2611.0 & 545.854 \\\\\n",
       "\t8 & 2020-01-08 & B6 & N947JB & 988 & LAX & BOS & 11.0 & 8.0 & -14.0 & -23.0 & 2345 & 759 & 295.0 & 0.0 & \\emph{missing} & 2611.0 & 531.051 \\\\\n",
       "\t9 & 2020-01-09 & B6 & N980JT & 988 & LAX & BOS & 13.0 & 15.0 & -6.0 & -13.0 & 2149 & 604 & 287.0 & 0.0 & \\emph{missing} & 2611.0 & 545.854 \\\\\n",
       "\t10 & 2020-01-10 & B6 & N968JT & 988 & LAX & BOS & 17.0 & 6.0 & -3.0 & -11.0 & 2152 & 606 & 291.0 & 0.0 & \\emph{missing} & 2611.0 & 538.351 \\\\\n",
       "\t$\\dots$ & $\\dots$ & $\\dots$ & $\\dots$ & $\\dots$ & $\\dots$ & $\\dots$ & $\\dots$ & $\\dots$ & $\\dots$ & $\\dots$ & $\\dots$ & $\\dots$ & $\\dots$ & $\\dots$ & $\\dots$ & $\\dots$ & $\\dots$ \\\\\n",
       "\\end{tabular}\n"
      ],
      "text/plain": [
       "\u001b[1m467402×17 Dataset\u001b[0m\n",
       "\u001b[1m    Row \u001b[0m│\u001b[1m FlightDate \u001b[0m\u001b[1m IATA     \u001b[0m\u001b[1m Tail_Number \u001b[0m\u001b[1m Flight_Number \u001b[0m\u001b[1m Origin   \u001b[0m\u001b[1m Dest     \u001b[0m\u001b[1m TaxiOut  \u001b[0m\u001b[1m TaxiIn   \u001b[0m\u001b[1m DepDelay \u001b[0m\u001b[1m ArrDelay \u001b[0m\u001b[1m DepTime  \u001b[0m\u001b[1m ArrTime  \u001b[0m\u001b[1m AirTime  \u001b[0m\u001b[1m Cancelled \u001b[0m\u001b[1m CancellationCode \u001b[0m\u001b[1m Distance \u001b[0m\u001b[1m Speed    \u001b[0m\n",
       "        │\u001b[90m identity   \u001b[0m\u001b[90m identity \u001b[0m\u001b[90m identity    \u001b[0m\u001b[90m identity      \u001b[0m\u001b[90m identity \u001b[0m\u001b[90m identity \u001b[0m\u001b[90m identity \u001b[0m\u001b[90m identity \u001b[0m\u001b[90m identity \u001b[0m\u001b[90m identity \u001b[0m\u001b[90m identity \u001b[0m\u001b[90m identity \u001b[0m\u001b[90m identity \u001b[0m\u001b[90m identity  \u001b[0m\u001b[90m identity         \u001b[0m\u001b[90m identity \u001b[0m\u001b[90m identity \u001b[0m\n",
       "        │\u001b[90m Date?      \u001b[0m\u001b[90m String?  \u001b[0m\u001b[90m String?     \u001b[0m\u001b[90m Int64?        \u001b[0m\u001b[90m String?  \u001b[0m\u001b[90m String?  \u001b[0m\u001b[90m Float64? \u001b[0m\u001b[90m Float64? \u001b[0m\u001b[90m Float64? \u001b[0m\u001b[90m Float64? \u001b[0m\u001b[90m Int64?   \u001b[0m\u001b[90m Int64?   \u001b[0m\u001b[90m Float64? \u001b[0m\u001b[90m Float64?  \u001b[0m\u001b[90m String?          \u001b[0m\u001b[90m Float64? \u001b[0m\u001b[90m Float64? \u001b[0m\n",
       "────────┼─────────────────────────────────────────────────────────────────────────────────────────────────────────────────────────────────────────────────────────────────────────────────────────────\n",
       "   ⋮    │     ⋮          ⋮           ⋮             ⋮           ⋮         ⋮         ⋮         ⋮         ⋮         ⋮         ⋮         ⋮         ⋮          ⋮             ⋮             ⋮         ⋮\n",
       "\u001b[36m                                                                                                                                                                                   467402 rows omitted\u001b[0m"
      ]
     },
     "execution_count": 19,
     "metadata": {},
     "output_type": "execute_result"
    }
   ],
   "source": [
    "m2h(x) = 60x\n",
    "modify!(flights, [:Distance, :AirTime] => byrow(/) => :Speed, :Speed => byrow(m2h))"
   ]
  },
  {
   "cell_type": "markdown",
   "metadata": {},
   "source": [
    "## Applying functions on each group of observations"
   ]
  },
  {
   "cell_type": "markdown",
   "metadata": {},
   "source": [
    "To get the average delay for each destination, we `groupby` our data set by `:Dest` (if the order of original data set should be preserved, we must use `gatherby`), select `:ArrDelay` and compute the mean:"
   ]
  },
  {
   "cell_type": "code",
   "execution_count": 20,
   "metadata": {},
   "outputs": [
    {
     "data": {
      "text/html": [
       "<table class=\"data-set\"><thead><tr><th></th><th>Dest</th><th>mean_ArrDelay</th></tr><tr><th></th><th>identity</th><th>identity</th></tr><tr><th></th><th title=\"Union{Missing, String}\">String?</th><th title=\"Union{Missing, Float64}\">Float64?</th></tr></thead><tbody><p>120 rows × 2 columns</p><tr><th>1</th><td>ABQ</td><td>-6.77667</td></tr><tr><th>2</th><td>ACV</td><td>-3.12598</td></tr><tr><th>3</th><td>ANC</td><td>-2.45455</td></tr><tr><th>4</th><td>ASE</td><td>14.446</td></tr><tr><th>5</th><td>ATL</td><td>-4.97706</td></tr><tr><th>6</th><td>AUS</td><td>-6.76768</td></tr><tr><th>7</th><td>AZA</td><td>16.3775</td></tr><tr><th>8</th><td>BDL</td><td>-2.16667</td></tr><tr><th>9</th><td>BFL</td><td>-2.35662</td></tr><tr><th>10</th><td>BIL</td><td>-7.04651</td></tr><tr><th>&vellip;</th><td>&vellip;</td><td>&vellip;</td></tr></tbody></table>"
      ],
      "text/latex": [
       "\\begin{tabular}{r|cc}\n",
       "\t& Dest & mean\\_ArrDelay\\\\\n",
       "\t\\hline\n",
       "\t& identity & identity\\\\\n",
       "\t\\hline\n",
       "\t& String? & Float64?\\\\\n",
       "\t\\hline\n",
       "\t1 & ABQ & -6.77667 \\\\\n",
       "\t2 & ACV & -3.12598 \\\\\n",
       "\t3 & ANC & -2.45455 \\\\\n",
       "\t4 & ASE & 14.446 \\\\\n",
       "\t5 & ATL & -4.97706 \\\\\n",
       "\t6 & AUS & -6.76768 \\\\\n",
       "\t7 & AZA & 16.3775 \\\\\n",
       "\t8 & BDL & -2.16667 \\\\\n",
       "\t9 & BFL & -2.35662 \\\\\n",
       "\t10 & BIL & -7.04651 \\\\\n",
       "\t$\\dots$ & $\\dots$ & $\\dots$ \\\\\n",
       "\\end{tabular}\n"
      ],
      "text/plain": [
       "\u001b[1m120×2 Dataset\u001b[0m\n",
       "\u001b[1m Row \u001b[0m│\u001b[1m Dest     \u001b[0m\u001b[1m mean_ArrDelay \u001b[0m\n",
       "     │\u001b[90m identity \u001b[0m\u001b[90m identity      \u001b[0m\n",
       "     │\u001b[90m String?  \u001b[0m\u001b[90m Float64?      \u001b[0m\n",
       "─────┼─────────────────────────\n",
       "  ⋮  │    ⋮            ⋮\n",
       "\u001b[36m               120 rows omitted\u001b[0m"
      ]
     },
     "execution_count": 20,
     "metadata": {},
     "output_type": "execute_result"
    }
   ],
   "source": [
    "combine(groupby(flights, :Dest), :ArrDelay => IMD.mean)"
   ]
  },
  {
   "cell_type": "markdown",
   "metadata": {},
   "source": [
    "we can summarise several columns at the same time, e.g. for each carrier, calculate the minimum and maximum arrival and departure delays: (`InMemorydatasets.jl` automatically handles missing values for common functions via `IMD.sum`, `IMD.mean`, `IMD.maximum`, `IMD.minimum`, etc. Refer to manual for more details)"
   ]
  },
  {
   "cell_type": "code",
   "execution_count": 21,
   "metadata": {},
   "outputs": [
    {
     "data": {
      "text/html": [
       "<table class=\"data-set\"><thead><tr><th></th><th>IATA</th><th>minimum_DepDelay</th><th>maximum_DepDelay</th><th>minimum_ArrDelay</th><th>maximum_ArrDelay</th></tr><tr><th></th><th>identity</th><th>identity</th><th>identity</th><th>identity</th><th>identity</th></tr><tr><th></th><th title=\"Union{Missing, String}\">String?</th><th title=\"Union{Missing, Float64}\">Float64?</th><th title=\"Union{Missing, Float64}\">Float64?</th><th title=\"Union{Missing, Float64}\">Float64?</th><th title=\"Union{Missing, Float64}\">Float64?</th></tr></thead><tbody><p>14 rows × 5 columns</p><tr><th>1</th><td>AA</td><td>-29.0</td><td>2466.0</td><td>-75.0</td><td>2457.0</td></tr><tr><th>2</th><td>AS</td><td>-34.0</td><td>590.0</td><td>-92.0</td><td>603.0</td></tr><tr><th>3</th><td>B6</td><td>-40.0</td><td>1076.0</td><td>-91.0</td><td>1074.0</td></tr><tr><th>4</th><td>DL</td><td>-28.0</td><td>1154.0</td><td>-75.0</td><td>1157.0</td></tr><tr><th>5</th><td>F9</td><td>-34.0</td><td>372.0</td><td>-69.0</td><td>353.0</td></tr><tr><th>6</th><td>G4</td><td>-49.0</td><td>1516.0</td><td>-60.0</td><td>1511.0</td></tr><tr><th>7</th><td>HA</td><td>-22.0</td><td>659.0</td><td>-80.0</td><td>620.0</td></tr><tr><th>8</th><td>MQ</td><td>-22.0</td><td>1223.0</td><td>-48.0</td><td>1223.0</td></tr><tr><th>9</th><td>NK</td><td>-34.0</td><td>1339.0</td><td>-63.0</td><td>1160.0</td></tr><tr><th>10</th><td>OO</td><td>-66.0</td><td>1531.0</td><td>-77.0</td><td>1528.0</td></tr><tr><th>&vellip;</th><td>&vellip;</td><td>&vellip;</td><td>&vellip;</td><td>&vellip;</td><td>&vellip;</td></tr></tbody></table>"
      ],
      "text/latex": [
       "\\begin{tabular}{r|ccccc}\n",
       "\t& IATA & minimum\\_DepDelay & maximum\\_DepDelay & minimum\\_ArrDelay & maximum\\_ArrDelay\\\\\n",
       "\t\\hline\n",
       "\t& identity & identity & identity & identity & identity\\\\\n",
       "\t\\hline\n",
       "\t& String? & Float64? & Float64? & Float64? & Float64?\\\\\n",
       "\t\\hline\n",
       "\t1 & AA & -29.0 & 2466.0 & -75.0 & 2457.0 \\\\\n",
       "\t2 & AS & -34.0 & 590.0 & -92.0 & 603.0 \\\\\n",
       "\t3 & B6 & -40.0 & 1076.0 & -91.0 & 1074.0 \\\\\n",
       "\t4 & DL & -28.0 & 1154.0 & -75.0 & 1157.0 \\\\\n",
       "\t5 & F9 & -34.0 & 372.0 & -69.0 & 353.0 \\\\\n",
       "\t6 & G4 & -49.0 & 1516.0 & -60.0 & 1511.0 \\\\\n",
       "\t7 & HA & -22.0 & 659.0 & -80.0 & 620.0 \\\\\n",
       "\t8 & MQ & -22.0 & 1223.0 & -48.0 & 1223.0 \\\\\n",
       "\t9 & NK & -34.0 & 1339.0 & -63.0 & 1160.0 \\\\\n",
       "\t10 & OO & -66.0 & 1531.0 & -77.0 & 1528.0 \\\\\n",
       "\t$\\dots$ & $\\dots$ & $\\dots$ & $\\dots$ & $\\dots$ & $\\dots$ \\\\\n",
       "\\end{tabular}\n"
      ],
      "text/plain": [
       "\u001b[1m14×5 Dataset\u001b[0m\n",
       "\u001b[1m Row \u001b[0m│\u001b[1m IATA     \u001b[0m\u001b[1m minimum_DepDelay \u001b[0m\u001b[1m maximum_DepDelay \u001b[0m\u001b[1m minimum_ArrDelay \u001b[0m\u001b[1m maximum_ArrDelay \u001b[0m\n",
       "     │\u001b[90m identity \u001b[0m\u001b[90m identity         \u001b[0m\u001b[90m identity         \u001b[0m\u001b[90m identity         \u001b[0m\u001b[90m identity         \u001b[0m\n",
       "     │\u001b[90m String?  \u001b[0m\u001b[90m Float64?         \u001b[0m\u001b[90m Float64?         \u001b[0m\u001b[90m Float64?         \u001b[0m\u001b[90m Float64?         \u001b[0m\n",
       "─────┼──────────────────────────────────────────────────────────────────────────────────\n",
       "  ⋮  │    ⋮             ⋮                 ⋮                 ⋮                 ⋮\n",
       "\u001b[36m                                                                         14 rows omitted\u001b[0m"
      ]
     },
     "execution_count": 21,
     "metadata": {},
     "output_type": "execute_result"
    }
   ],
   "source": [
    "@chain flights begin\n",
    "    groupby(:IATA)\n",
    "    combine(r\"Delay\" => [IMD.minimum, IMD.maximum]) # apply every functions in the list to each column \n",
    "end"
   ]
  },
  {
   "cell_type": "markdown",
   "metadata": {},
   "source": [
    "For each day of the year, count the total number of flights and sort in descending order:"
   ]
  },
  {
   "cell_type": "code",
   "execution_count": 22,
   "metadata": {},
   "outputs": [
    {
     "data": {
      "text/html": [
       "<table class=\"data-set\"><thead><tr><th></th><th>FlightDate</th><th>count</th></tr><tr><th></th><th>day</th><th>identity</th></tr><tr><th></th><th title=\"Union{Missing, Date}\">Date?</th><th title=\"Union{Missing, Int64}\">Int64?</th></tr></thead><tbody><p>31 rows × 2 columns</p><p><b> Sorted Dataset </p><p> Sorted by: count </p><tr><th>1</th><td>3</td><td>15981</td></tr><tr><th>2</th><td>6</td><td>15975</td></tr><tr><th>3</th><td>2</td><td>15845</td></tr><tr><th>4</th><td>13</td><td>15827</td></tr><tr><th>5</th><td>20</td><td>15802</td></tr><tr><th>6</th><td>23</td><td>15757</td></tr><tr><th>7</th><td>27</td><td>15727</td></tr><tr><th>8</th><td>10</td><td>15672</td></tr><tr><th>9</th><td>9</td><td>15670</td></tr><tr><th>10</th><td>5</td><td>15661</td></tr><tr><th>&vellip;</th><td>&vellip;</td><td>&vellip;</td></tr></tbody></table>"
      ],
      "text/latex": [
       "\\begin{tabular}{r|cc}\n",
       "\t& FlightDate & count\\\\\n",
       "\t\\hline\n",
       "\t& day & identity\\\\\n",
       "\t\\hline\n",
       "\t& Date? & Int64?\\\\\n",
       "\t\\hline\n",
       "\t1 & 3 & 15981 \\\\\n",
       "\t2 & 6 & 15975 \\\\\n",
       "\t3 & 2 & 15845 \\\\\n",
       "\t4 & 13 & 15827 \\\\\n",
       "\t5 & 20 & 15802 \\\\\n",
       "\t6 & 23 & 15757 \\\\\n",
       "\t7 & 27 & 15727 \\\\\n",
       "\t8 & 10 & 15672 \\\\\n",
       "\t9 & 9 & 15670 \\\\\n",
       "\t10 & 5 & 15661 \\\\\n",
       "\t$\\dots$ & $\\dots$ & $\\dots$ \\\\\n",
       "\\end{tabular}\n"
      ],
      "text/plain": [
       "\u001b[1m31×2 Sorted Dataset\u001b[0m\n",
       "\u001b[1m Sorted by: count\u001b[0m\n",
       "\u001b[1m Row \u001b[0m│\u001b[1m FlightDate \u001b[0m\u001b[1m count    \u001b[0m\n",
       "     │\u001b[90m day        \u001b[0m\u001b[90m identity \u001b[0m\n",
       "     │\u001b[90m Date?      \u001b[0m\u001b[90m Int64?   \u001b[0m\n",
       "  ⋮  │     ⋮          ⋮\n",
       "\u001b[36m             31 rows omitted\u001b[0m"
      ]
     },
     "execution_count": 22,
     "metadata": {},
     "output_type": "execute_result"
    }
   ],
   "source": [
    "@chain flights begin\n",
    "    setformat!(1 => day) # format date as day\n",
    "    gatherby(1)\n",
    "    combine(1 => length => :count)\n",
    "    sort!(2, rev = true)\n",
    "end"
   ]
  },
  {
   "cell_type": "markdown",
   "metadata": {},
   "source": [
    "For each month of the year, calculate the cancellation rate:\n"
   ]
  },
  {
   "cell_type": "code",
   "execution_count": 23,
   "metadata": {},
   "outputs": [
    {
     "data": {
      "text/html": [
       "<table class=\"data-set\"><thead><tr><th></th><th>FlightDate</th><th>Percent</th></tr><tr><th></th><th>month</th><th>pct_fmt</th></tr><tr><th></th><th title=\"Union{Missing, Date}\">Date?</th><th title=\"Union{Missing, Float64}\">Float64?</th></tr></thead><tbody><p>12 rows × 2 columns</p><tr><th>1</th><td>1</td><td>0.94%</td></tr><tr><th>2</th><td>2</td><td>0.75%</td></tr><tr><th>3</th><td>3</td><td>17.58%</td></tr><tr><th>4</th><td>4</td><td>44.05%</td></tr><tr><th>5</th><td>5</td><td>5.21%</td></tr><tr><th>6</th><td>6</td><td>0.27%</td></tr><tr><th>7</th><td>7</td><td>0.63%</td></tr><tr><th>8</th><td>8</td><td>0.68%</td></tr><tr><th>9</th><td>9</td><td>0.47%</td></tr><tr><th>10</th><td>10</td><td>0.21%</td></tr><tr><th>&vellip;</th><td>&vellip;</td><td>&vellip;</td></tr></tbody></table>"
      ],
      "text/latex": [
       "\\begin{tabular}{r|cc}\n",
       "\t& FlightDate & Percent\\\\\n",
       "\t\\hline\n",
       "\t& month & pct\\_fmt\\\\\n",
       "\t\\hline\n",
       "\t& Date? & Float64?\\\\\n",
       "\t\\hline\n",
       "\t1 & 1 & 0.94\\% \\\\\n",
       "\t2 & 2 & 0.75\\% \\\\\n",
       "\t3 & 3 & 17.58\\% \\\\\n",
       "\t4 & 4 & 44.05\\% \\\\\n",
       "\t5 & 5 & 5.21\\% \\\\\n",
       "\t6 & 6 & 0.27\\% \\\\\n",
       "\t7 & 7 & 0.63\\% \\\\\n",
       "\t8 & 8 & 0.68\\% \\\\\n",
       "\t9 & 9 & 0.47\\% \\\\\n",
       "\t10 & 10 & 0.21\\% \\\\\n",
       "\t$\\dots$ & $\\dots$ & $\\dots$ \\\\\n",
       "\\end{tabular}\n"
      ],
      "text/plain": [
       "\u001b[1m12×2 Dataset\u001b[0m\n",
       "\u001b[1m Row \u001b[0m│\u001b[1m FlightDate \u001b[0m\u001b[1m Percent  \u001b[0m\n",
       "     │\u001b[90m month      \u001b[0m\u001b[90m pct_fmt  \u001b[0m\n",
       "     │\u001b[90m Date?      \u001b[0m\u001b[90m Float64? \u001b[0m\n",
       "─────┼──────────────────────\n",
       "  ⋮  │     ⋮          ⋮\n",
       "\u001b[36m             12 rows omitted\u001b[0m"
      ]
     },
     "execution_count": 23,
     "metadata": {},
     "output_type": "execute_result"
    }
   ],
   "source": [
    "pct_fmt(x) = string(round(x*100, digits = 2), \"%\") # we use this as format for displaying values\n",
    "@chain flights begin\n",
    "    setformat!(1 => month)\n",
    "    groupby(:FlightDate)\n",
    "    combine(:Cancelled => mean => :Percent)\n",
    "    setformat!(:Percent => pct_fmt)\n",
    "end"
   ]
  },
  {
   "cell_type": "markdown",
   "metadata": {},
   "source": [
    "For each destination, count the total number of flights and the number of distinct planes that flew there\n"
   ]
  },
  {
   "cell_type": "code",
   "execution_count": 24,
   "metadata": {},
   "outputs": [
    {
     "data": {
      "text/html": [
       "<table class=\"data-set\"><thead><tr><th></th><th>Dest</th><th>Count</th><th>Unique_Flight</th></tr><tr><th></th><th>identity</th><th>identity</th><th>identity</th></tr><tr><th></th><th title=\"Union{Missing, String}\">String?</th><th title=\"Union{Missing, Int64}\">Int64?</th><th title=\"Union{Missing, Int64}\">Int64?</th></tr></thead><tbody><p>120 rows × 3 columns</p><tr><th>1</th><td>ABQ</td><td>1861</td><td>684</td></tr><tr><th>2</th><td>ACV</td><td>1097</td><td>202</td></tr><tr><th>3</th><td>ANC</td><td>135</td><td>67</td></tr><tr><th>4</th><td>ASE</td><td>823</td><td>77</td></tr><tr><th>5</th><td>ATL</td><td>9604</td><td>1323</td></tr><tr><th>6</th><td>AUS</td><td>4678</td><td>1527</td></tr><tr><th>7</th><td>AZA</td><td>232</td><td>42</td></tr><tr><th>8</th><td>BDL</td><td>13</td><td>12</td></tr><tr><th>9</th><td>BFL</td><td>297</td><td>137</td></tr><tr><th>10</th><td>BIL</td><td>44</td><td>16</td></tr><tr><th>&vellip;</th><td>&vellip;</td><td>&vellip;</td><td>&vellip;</td></tr></tbody></table>"
      ],
      "text/latex": [
       "\\begin{tabular}{r|ccc}\n",
       "\t& Dest & Count & Unique\\_Flight\\\\\n",
       "\t\\hline\n",
       "\t& identity & identity & identity\\\\\n",
       "\t\\hline\n",
       "\t& String? & Int64? & Int64?\\\\\n",
       "\t\\hline\n",
       "\t1 & ABQ & 1861 & 684 \\\\\n",
       "\t2 & ACV & 1097 & 202 \\\\\n",
       "\t3 & ANC & 135 & 67 \\\\\n",
       "\t4 & ASE & 823 & 77 \\\\\n",
       "\t5 & ATL & 9604 & 1323 \\\\\n",
       "\t6 & AUS & 4678 & 1527 \\\\\n",
       "\t7 & AZA & 232 & 42 \\\\\n",
       "\t8 & BDL & 13 & 12 \\\\\n",
       "\t9 & BFL & 297 & 137 \\\\\n",
       "\t10 & BIL & 44 & 16 \\\\\n",
       "\t$\\dots$ & $\\dots$ & $\\dots$ & $\\dots$ \\\\\n",
       "\\end{tabular}\n"
      ],
      "text/plain": [
       "\u001b[1m120×3 Dataset\u001b[0m\n",
       "\u001b[1m Row \u001b[0m│\u001b[1m Dest     \u001b[0m\u001b[1m Count    \u001b[0m\u001b[1m Unique_Flight \u001b[0m\n",
       "     │\u001b[90m identity \u001b[0m\u001b[90m identity \u001b[0m\u001b[90m identity      \u001b[0m\n",
       "     │\u001b[90m String?  \u001b[0m\u001b[90m Int64?   \u001b[0m\u001b[90m Int64?        \u001b[0m\n",
       "─────┼───────────────────────────────────\n",
       "  ⋮  │    ⋮         ⋮            ⋮\n",
       "\u001b[36m                         120 rows omitted\u001b[0m"
      ]
     },
     "execution_count": 24,
     "metadata": {},
     "output_type": "execute_result"
    }
   ],
   "source": [
    "@chain flights begin\n",
    "    groupby(:Dest)\n",
    "    # Julia broadcasting also can be used to specify transformations\n",
    "    combine(:Tail_Number .=> [length, length∘union] .=> [:Count, :Unique_Flight])\n",
    "end"
   ]
  },
  {
   "cell_type": "markdown",
   "metadata": {},
   "source": [
    "Cross tabulate airports with more than 1000 distinct planes flying between them"
   ]
  },
  {
   "cell_type": "code",
   "execution_count": 25,
   "metadata": {},
   "outputs": [
    {
     "data": {
      "text/html": [
       "<table class=\"data-set\"><thead><tr><th></th><th>Origin</th><th>ATL</th><th>DEN</th><th>LAS</th><th>PHX</th><th>SFO</th><th>LAX</th><th>SAN</th></tr><tr><th></th><th>identity</th><th>identity</th><th>identity</th><th>identity</th><th>identity</th><th>identity</th><th>identity</th><th>identity</th></tr><tr><th></th><th title=\"Union{Missing, String}\">String?</th><th title=\"Union{Missing, Int64}\">Int64?</th><th title=\"Union{Missing, Int64}\">Int64?</th><th title=\"Union{Missing, Int64}\">Int64?</th><th title=\"Union{Missing, Int64}\">Int64?</th><th title=\"Union{Missing, Int64}\">Int64?</th><th title=\"Union{Missing, Int64}\">Int64?</th><th title=\"Union{Missing, Int64}\">Int64?</th></tr></thead><tbody><p>4 rows × 8 columns</p><tr><th>1</th><td>LAX</td><td>1017</td><td>1442</td><td>2006</td><td>1197</td><td>1843</td><td>0</td><td>0</td></tr><tr><th>2</th><td>SAN</td><td>0</td><td>1020</td><td>0</td><td>1086</td><td>1105</td><td>0</td><td>0</td></tr><tr><th>3</th><td>SFO</td><td>0</td><td>1039</td><td>1247</td><td>1198</td><td>0</td><td>1858</td><td>1117</td></tr><tr><th>4</th><td>SMF</td><td>0</td><td>1070</td><td>0</td><td>0</td><td>0</td><td>0</td><td>0</td></tr></tbody></table>"
      ],
      "text/latex": [
       "\\begin{tabular}{r|cccccccc}\n",
       "\t& Origin & ATL & DEN & LAS & PHX & SFO & LAX & SAN\\\\\n",
       "\t\\hline\n",
       "\t& identity & identity & identity & identity & identity & identity & identity & identity\\\\\n",
       "\t\\hline\n",
       "\t& String? & Int64? & Int64? & Int64? & Int64? & Int64? & Int64? & Int64?\\\\\n",
       "\t\\hline\n",
       "\t1 & LAX & 1017 & 1442 & 2006 & 1197 & 1843 & 0 & 0 \\\\\n",
       "\t2 & SAN & 0 & 1020 & 0 & 1086 & 1105 & 0 & 0 \\\\\n",
       "\t3 & SFO & 0 & 1039 & 1247 & 1198 & 0 & 1858 & 1117 \\\\\n",
       "\t4 & SMF & 0 & 1070 & 0 & 0 & 0 & 0 & 0 \\\\\n",
       "\\end{tabular}\n"
      ],
      "text/plain": [
       "\u001b[1m4×8 Dataset\u001b[0m\n",
       "\u001b[1m Row \u001b[0m│\u001b[1m Origin   \u001b[0m\u001b[1m ATL      \u001b[0m\u001b[1m DEN      \u001b[0m\u001b[1m LAS      \u001b[0m\u001b[1m PHX      \u001b[0m\u001b[1m SFO      \u001b[0m\u001b[1m LAX      \u001b[0m\u001b[1m SAN      \u001b[0m\n",
       "     │\u001b[90m identity \u001b[0m\u001b[90m identity \u001b[0m\u001b[90m identity \u001b[0m\u001b[90m identity \u001b[0m\u001b[90m identity \u001b[0m\u001b[90m identity \u001b[0m\u001b[90m identity \u001b[0m\u001b[90m identity \u001b[0m\n",
       "     │\u001b[90m String?  \u001b[0m\u001b[90m Int64?   \u001b[0m\u001b[90m Int64?   \u001b[0m\u001b[90m Int64?   \u001b[0m\u001b[90m Int64?   \u001b[0m\u001b[90m Int64?   \u001b[0m\u001b[90m Int64?   \u001b[0m\u001b[90m Int64?   \u001b[0m\n",
       "─────┼────────────────────────────────────────────────────────────────────────────────\n",
       "  ⋮  │    ⋮         ⋮         ⋮         ⋮         ⋮         ⋮         ⋮         ⋮\n",
       "\u001b[36m                                                                        4 rows omitted\u001b[0m"
      ]
     },
     "execution_count": 25,
     "metadata": {},
     "output_type": "execute_result"
    }
   ],
   "source": [
    "@chain flights begin\n",
    "    groupby([:Origin, :Dest])\n",
    "    combine(:Tail_Number => length∘union)\n",
    "    filter(3, by = >(1000))\n",
    "    gatherby(1, isgathered = true)\n",
    "    # setting `variable_name = nothing` drop it from the output dataset\n",
    "    transpose(3, id = 2, variable_name = nothing, default = 0)\n",
    "end"
   ]
  },
  {
   "cell_type": "markdown",
   "metadata": {},
   "source": [
    "## Non-reduction functions"
   ]
  },
  {
   "cell_type": "markdown",
   "metadata": {},
   "source": [
    "In the previous section, we always applied functions that reduced a vector to a single value.\n",
    "Non-reduction functions instead take a vector and return a vector. For example we can rank, within each `:IATA`, how much\n",
    "delay a given flight had and figure out the day and month with the two greatest delays:\n"
   ]
  },
  {
   "cell_type": "code",
   "execution_count": 26,
   "metadata": {},
   "outputs": [
    {
     "data": {
      "text/html": [
       "<table class=\"data-set\"><thead><tr><th></th><th>IATA</th><th>Most_Delay</th></tr><tr><th></th><th>identity</th><th>monthday</th></tr><tr><th></th><th title=\"Union{Missing, String}\">String?</th><th title=\"Union{Missing, Date}\">Date?</th></tr></thead><tbody><p>28 rows × 2 columns</p><tr><th>1</th><td>AA</td><td>(3, 7)</td></tr><tr><th>2</th><td>AA</td><td>(8, 7)</td></tr><tr><th>3</th><td>AS</td><td>(1, 22)</td></tr><tr><th>4</th><td>AS</td><td>(10, 11)</td></tr><tr><th>5</th><td>B6</td><td>(2, 9)</td></tr><tr><th>6</th><td>B6</td><td>(5, 4)</td></tr><tr><th>7</th><td>DL</td><td>(10, 8)</td></tr><tr><th>8</th><td>DL</td><td>(6, 29)</td></tr><tr><th>9</th><td>F9</td><td>(2, 3)</td></tr><tr><th>10</th><td>F9</td><td>(1, 2)</td></tr><tr><th>&vellip;</th><td>&vellip;</td><td>&vellip;</td></tr></tbody></table>"
      ],
      "text/latex": [
       "\\begin{tabular}{r|cc}\n",
       "\t& IATA & Most\\_Delay\\\\\n",
       "\t\\hline\n",
       "\t& identity & monthday\\\\\n",
       "\t\\hline\n",
       "\t& String? & Date?\\\\\n",
       "\t\\hline\n",
       "\t1 & AA & (3, 7) \\\\\n",
       "\t2 & AA & (8, 7) \\\\\n",
       "\t3 & AS & (1, 22) \\\\\n",
       "\t4 & AS & (10, 11) \\\\\n",
       "\t5 & B6 & (2, 9) \\\\\n",
       "\t6 & B6 & (5, 4) \\\\\n",
       "\t7 & DL & (10, 8) \\\\\n",
       "\t8 & DL & (6, 29) \\\\\n",
       "\t9 & F9 & (2, 3) \\\\\n",
       "\t10 & F9 & (1, 2) \\\\\n",
       "\t$\\dots$ & $\\dots$ & $\\dots$ \\\\\n",
       "\\end{tabular}\n"
      ],
      "text/plain": [
       "\u001b[1m28×2 Dataset\u001b[0m\n",
       "\u001b[1m Row \u001b[0m│\u001b[1m IATA     \u001b[0m\u001b[1m Most_Delay \u001b[0m\n",
       "     │\u001b[90m identity \u001b[0m\u001b[90m monthday   \u001b[0m\n",
       "     │\u001b[90m String?  \u001b[0m\u001b[90m Date?      \u001b[0m\n",
       "─────┼──────────────────────\n",
       "  ⋮  │    ⋮          ⋮\n",
       "\u001b[36m             28 rows omitted\u001b[0m"
      ]
     },
     "execution_count": 26,
     "metadata": {},
     "output_type": "execute_result"
    }
   ],
   "source": [
    "most_delay(x, y) = x[topkperm(y, 2)]\n",
    "@chain flights begin\n",
    "    groupby(:IATA)\n",
    "    combine((:FlightDate, :DepDelay) => most_delay => :Most_Delay)\n",
    "    setformat!(2 => monthday)\n",
    "end"
   ]
  },
  {
   "cell_type": "markdown",
   "metadata": {},
   "source": [
    "We could use Julia partial sorting too.\n",
    "\n",
    "> **performance tip:** If you'll group often by the same column(s), you can use `groupby!` or `sort!` functions to sort your data set by that column(s) at once to optimise future computations. The difference between `groupby!` and `sort!` is that the former one sorts and marks data as grouped, but the latter one only sorts data.\n",
    "\n",
    "For each month, calculate the number of flights and the change from the previous month"
   ]
  },
  {
   "cell_type": "code",
   "execution_count": 27,
   "metadata": {},
   "outputs": [
    {
     "data": {
      "text/html": [
       "<table class=\"data-set\"><thead><tr><th></th><th>FlightDate</th><th>length</th><th>change</th></tr><tr><th></th><th>month</th><th>identity</th><th>identity</th></tr><tr><th></th><th title=\"Union{Missing, Date}\">Date?</th><th title=\"Union{Missing, Int64}\">Int64?</th><th title=\"Union{Missing, Int64}\">Int64?</th></tr></thead><tbody><p>12 rows × 3 columns</p><tr><th>1</th><td>1</td><td>66748</td><td><em>missing</em></td></tr><tr><th>2</th><td>2</td><td>62504</td><td>-4244</td></tr><tr><th>3</th><td>3</td><td>69172</td><td>6668</td></tr><tr><th>4</th><td>4</td><td>31285</td><td>-37887</td></tr><tr><th>5</th><td>5</td><td>16940</td><td>-14345</td></tr><tr><th>6</th><td>6</td><td>22278</td><td>5338</td></tr><tr><th>7</th><td>7</td><td>33648</td><td>11370</td></tr><tr><th>8</th><td>8</td><td>34476</td><td>828</td></tr><tr><th>9</th><td>9</td><td>29825</td><td>-4651</td></tr><tr><th>10</th><td>10</td><td>32100</td><td>2275</td></tr><tr><th>&vellip;</th><td>&vellip;</td><td>&vellip;</td><td>&vellip;</td></tr></tbody></table>"
      ],
      "text/latex": [
       "\\begin{tabular}{r|ccc}\n",
       "\t& FlightDate & length & change\\\\\n",
       "\t\\hline\n",
       "\t& month & identity & identity\\\\\n",
       "\t\\hline\n",
       "\t& Date? & Int64? & Int64?\\\\\n",
       "\t\\hline\n",
       "\t1 & 1 & 66748 & \\emph{missing} \\\\\n",
       "\t2 & 2 & 62504 & -4244 \\\\\n",
       "\t3 & 3 & 69172 & 6668 \\\\\n",
       "\t4 & 4 & 31285 & -37887 \\\\\n",
       "\t5 & 5 & 16940 & -14345 \\\\\n",
       "\t6 & 6 & 22278 & 5338 \\\\\n",
       "\t7 & 7 & 33648 & 11370 \\\\\n",
       "\t8 & 8 & 34476 & 828 \\\\\n",
       "\t9 & 9 & 29825 & -4651 \\\\\n",
       "\t10 & 10 & 32100 & 2275 \\\\\n",
       "\t$\\dots$ & $\\dots$ & $\\dots$ & $\\dots$ \\\\\n",
       "\\end{tabular}\n"
      ],
      "text/plain": [
       "\u001b[1m12×3 Dataset\u001b[0m\n",
       "\u001b[1m Row \u001b[0m│\u001b[1m FlightDate \u001b[0m\u001b[1m length   \u001b[0m\u001b[1m change   \u001b[0m\n",
       "     │\u001b[90m month      \u001b[0m\u001b[90m identity \u001b[0m\u001b[90m identity \u001b[0m\n",
       "     │\u001b[90m Date?      \u001b[0m\u001b[90m Int64?   \u001b[0m\u001b[90m Int64?   \u001b[0m\n",
       "─────┼────────────────────────────────\n",
       "  ⋮  │     ⋮          ⋮         ⋮\n",
       "\u001b[36m                       12 rows omitted\u001b[0m"
      ]
     },
     "execution_count": 27,
     "metadata": {},
     "output_type": "execute_result"
    }
   ],
   "source": [
    "@chain flights begin\n",
    "    setformat!(1 => month)\n",
    "    groupby(1)\n",
    "    combine(1 => length => :length)\n",
    "    # parenthesis is needed when a lambda function is used\n",
    "    modify!(:length => (x-> x .- lag(x)) => :change)\n",
    "end"
   ]
  },
  {
   "cell_type": "markdown",
   "metadata": {},
   "source": [
    "## Visualising your data"
   ]
  },
  {
   "cell_type": "markdown",
   "metadata": {},
   "source": [
    "The [StatsPlots](https://github.com/JuliaPlots/StatsPlots.jl), [VegaLite](https://github.com/queryverse/VegaLite.jl), [Makie](https://github.com/JuliaPlots/Makie.jl) packages (among others) make a rich set of visualisations possible with an intuitive syntax.\n",
    "\n",
    "Here we use [`StatisticalGraphics`](https://github.com/sl-solution/StatisticalGraphics.jl) to visualise the cancellation rate in busiest airports for each month:"
   ]
  },
  {
   "cell_type": "code",
   "execution_count": 28,
   "metadata": {},
   "outputs": [
    {
     "data": {
      "image/png": "[encoded data removed]",
      "image/svg+xml": [
       "<svg xmlns=\"http://www.w3.org/2000/svg\" xmlns:xlink=\"http://www.w3.org/1999/xlink\" version=\"1.1\" class=\"marks\" width=\"713\" height=\"256\" viewBox=\"0 0 713 256\"><rect width=\"713\" height=\"256\" fill=\"white\"/><g fill=\"none\" stroke-miterlimit=\"10\" transform=\"translate(45,11)\"><g class=\"mark-group role-frame root\" role=\"graphics-object\" aria-roledescription=\"group mark container\"><g transform=\"translate(0,0)\"><path class=\"background\" aria-hidden=\"true\" d=\"M0,0h660v200h-660Z\"/><g><g class=\"mark-group role-scope\" role=\"graphics-object\" aria-roledescription=\"group mark container\"><g transform=\"translate(0,0)\"><path class=\"background\" aria-hidden=\"true\" d=\"M0,0h0v0h0Z\"/><g><g class=\"mark-group role-axis\" role=\"graphics-symbol\" aria-roledescription=\"axis\" aria-label=\"X-axis titled 'Rate' for a linear scale with values from 0.0 to 1.0\"><g transform=\"translate(0.5,230.5)\"><path class=\"background\" aria-hidden=\"true\" d=\"M0,0h0v0h0Z\" pointer-events=\"none\"/><g><g class=\"mark-text role-axis-title\" pointer-events=\"none\"><text text-anchor=\"middle\" transform=\"translate(330,13)\" font-family=\"sans-serif\" font-size=\"11px\" font-style=\"normal\" font-weight=\"400\" fill=\"black\" opacity=\"1\">Rate</text></g></g><path class=\"foreground\" aria-hidden=\"true\" d=\"\" pointer-events=\"none\" display=\"none\"/></g></g><g class=\"mark-group role-axis\" role=\"graphics-symbol\" aria-roledescription=\"axis\" aria-label=\"Y-axis titled 'Month' for a linear scale with values from 0.0 to 1.0\"><g transform=\"translate(-29.5,0.5)\"><path class=\"background\" aria-hidden=\"true\" d=\"M0,0h0v0h0Z\" pointer-events=\"none\"/><g><g class=\"mark-text role-axis-title\" pointer-events=\"none\"><text text-anchor=\"middle\" transform=\"translate(-4,100) rotate(-90) translate(0,-2)\" font-family=\"sans-serif\" font-size=\"11px\" font-style=\"normal\" font-weight=\"400\" fill=\"black\" opacity=\"1\">Month</text></g></g><path class=\"foreground\" aria-hidden=\"true\" d=\"\" pointer-events=\"none\" display=\"none\"/></g></g><g class=\"mark-group role-scope\" role=\"graphics-object\" aria-roledescription=\"group mark container\"><g transform=\"translate(0,0)\"><path class=\"background\" aria-hidden=\"true\" d=\"M0,0h200v200h-200Z\" stroke=\"gray\" stroke-width=\"0.1\"/><g><g class=\"mark-group role-axis\" role=\"graphics-symbol\" aria-roledescription=\"axis\" aria-label=\"X-axis for a linear scale with values from 0.0 to 0.5\"><g transform=\"translate(0.5,201.5)\"><path class=\"background\" aria-hidden=\"true\" d=\"M0,0h0v0h0Z\" pointer-events=\"none\"/><g><g class=\"mark-rule role-axis-grid\" pointer-events=\"none\"><line transform=\"translate(0,-201)\" x2=\"0\" y2=\"200\" stroke=\"lightgray\" stroke-width=\"0.5\" stroke-dasharray=\"0\" opacity=\"1\"/><line transform=\"translate(40,-201)\" x2=\"0\" y2=\"200\" stroke=\"lightgray\" stroke-width=\"0.5\" stroke-dasharray=\"0\" opacity=\"1\"/><line transform=\"translate(80,-201)\" x2=\"0\" y2=\"200\" stroke=\"lightgray\" stroke-width=\"0.5\" stroke-dasharray=\"0\" opacity=\"1\"/><line transform=\"translate(120,-201)\" x2=\"0\" y2=\"200\" stroke=\"lightgray\" stroke-width=\"0.5\" stroke-dasharray=\"0\" opacity=\"1\"/><line transform=\"translate(160,-201)\" x2=\"0\" y2=\"200\" stroke=\"lightgray\" stroke-width=\"0.5\" stroke-dasharray=\"0\" opacity=\"1\"/><line transform=\"translate(200,-201)\" x2=\"0\" y2=\"200\" stroke=\"lightgray\" stroke-width=\"0.5\" stroke-dasharray=\"0\" opacity=\"1\"/></g><g class=\"mark-rule role-axis-tick\" pointer-events=\"none\"><line transform=\"translate(0,0)\" x2=\"0\" y2=\"5\" stroke=\"black\" stroke-width=\"1.01\" opacity=\"1\"/><line transform=\"translate(40,0)\" x2=\"0\" y2=\"5\" stroke=\"black\" stroke-width=\"1.01\" opacity=\"1\"/><line transform=\"translate(80,0)\" x2=\"0\" y2=\"5\" stroke=\"black\" stroke-width=\"1.01\" opacity=\"1\"/><line transform=\"translate(120,0)\" x2=\"0\" y2=\"5\" stroke=\"black\" stroke-width=\"1.01\" opacity=\"1\"/><line transform=\"translate(160,0)\" x2=\"0\" y2=\"5\" stroke=\"black\" stroke-width=\"1.01\" opacity=\"1\"/><line transform=\"translate(200,0)\" x2=\"0\" y2=\"5\" stroke=\"black\" stroke-width=\"1.01\" opacity=\"1\"/></g><g class=\"mark-text role-axis-label\" pointer-events=\"none\"><text text-anchor=\"middle\" transform=\"translate(0,15)\" font-family=\"sans-serif\" font-size=\"10px\" font-style=\"normal\" font-weight=\"400\" fill=\"black\" opacity=\"1\">0.0</text><text text-anchor=\"middle\" transform=\"translate(40,15)\" font-family=\"sans-serif\" font-size=\"10px\" font-style=\"normal\" font-weight=\"400\" fill=\"black\" opacity=\"1\">0.1</text><text text-anchor=\"middle\" transform=\"translate(80,15)\" font-family=\"sans-serif\" font-size=\"10px\" font-style=\"normal\" font-weight=\"400\" fill=\"black\" opacity=\"1\">0.2</text><text text-anchor=\"middle\" transform=\"translate(120,15)\" font-family=\"sans-serif\" font-size=\"10px\" font-style=\"normal\" font-weight=\"400\" fill=\"black\" opacity=\"1\">0.3</text><text text-anchor=\"middle\" transform=\"translate(160,15)\" font-family=\"sans-serif\" font-size=\"10px\" font-style=\"normal\" font-weight=\"400\" fill=\"black\" opacity=\"1\">0.4</text><text text-anchor=\"middle\" transform=\"translate(200,15)\" font-family=\"sans-serif\" font-size=\"10px\" font-style=\"normal\" font-weight=\"400\" fill=\"black\" opacity=\"1\">0.5</text></g><g class=\"mark-rule role-axis-domain\" pointer-events=\"none\"><line transform=\"translate(0,0)\" x2=\"200\" y2=\"0\" stroke=\"black\" stroke-width=\"1.01\" opacity=\"1\"/></g></g><path class=\"foreground\" aria-hidden=\"true\" d=\"\" pointer-events=\"none\" display=\"none\"/></g></g><g class=\"mark-group role-axis\" role=\"graphics-symbol\" aria-roledescription=\"axis\" aria-label=\"Y-axis for a discrete scale with 12 values: 1, 2, 3, 4, 5, ending with 12\"><g transform=\"translate(-0.5,0.5)\"><path class=\"background\" aria-hidden=\"true\" d=\"M0,0h0v0h0Z\" pointer-events=\"none\"/><g><g class=\"mark-rule role-axis-tick\" pointer-events=\"none\"><line transform=\"translate(0,192)\" x2=\"-5\" y2=\"0\" stroke=\"black\" stroke-width=\"1.01\" opacity=\"1\"/><line transform=\"translate(0,175)\" x2=\"-5\" y2=\"0\" stroke=\"black\" stroke-width=\"1.01\" opacity=\"1\"/><line transform=\"translate(0,158)\" x2=\"-5\" y2=\"0\" stroke=\"black\" stroke-width=\"1.01\" opacity=\"1\"/><line transform=\"translate(0,142)\" x2=\"-5\" y2=\"0\" stroke=\"black\" stroke-width=\"1.01\" opacity=\"1\"/><line transform=\"translate(0,125)\" x2=\"-5\" y2=\"0\" stroke=\"black\" stroke-width=\"1.01\" opacity=\"1\"/><line transform=\"translate(0,108)\" x2=\"-5\" y2=\"0\" stroke=\"black\" stroke-width=\"1.01\" opacity=\"1\"/><line transform=\"translate(0,91)\" x2=\"-5\" y2=\"0\" stroke=\"black\" stroke-width=\"1.01\" opacity=\"1\"/><line transform=\"translate(0,74)\" x2=\"-5\" y2=\"0\" stroke=\"black\" stroke-width=\"1.01\" opacity=\"1\"/><line transform=\"translate(0,57)\" x2=\"-5\" y2=\"0\" stroke=\"black\" stroke-width=\"1.01\" opacity=\"1\"/><line transform=\"translate(0,41)\" x2=\"-5\" y2=\"0\" stroke=\"black\" stroke-width=\"1.01\" opacity=\"1\"/><line transform=\"translate(0,24)\" x2=\"-5\" y2=\"0\" stroke=\"black\" stroke-width=\"1.01\" opacity=\"1\"/><line transform=\"translate(0,7)\" x2=\"-5\" y2=\"0\" stroke=\"black\" stroke-width=\"1.01\" opacity=\"1\"/></g><g class=\"mark-text role-axis-label\" pointer-events=\"none\"><text text-anchor=\"end\" transform=\"translate(-7,194.93697478991595)\" font-family=\"sans-serif\" font-size=\"10px\" font-style=\"normal\" font-weight=\"400\" fill=\"black\" opacity=\"1\">1</text><text text-anchor=\"end\" transform=\"translate(-7,178.13025210084032)\" font-family=\"sans-serif\" font-size=\"10px\" font-style=\"normal\" font-weight=\"400\" fill=\"black\" opacity=\"1\">2</text><text text-anchor=\"end\" transform=\"translate(-7,161.3235294117647)\" font-family=\"sans-serif\" font-size=\"10px\" font-style=\"normal\" font-weight=\"400\" fill=\"black\" opacity=\"1\">3</text><text text-anchor=\"end\" transform=\"translate(-7,144.51680672268907)\" font-family=\"sans-serif\" font-size=\"10px\" font-style=\"normal\" font-weight=\"400\" fill=\"black\" opacity=\"1\">4</text><text text-anchor=\"end\" transform=\"translate(-7,127.71008403361346)\" font-family=\"sans-serif\" font-size=\"10px\" font-style=\"normal\" font-weight=\"400\" fill=\"black\" opacity=\"1\">5</text><text text-anchor=\"end\" transform=\"translate(-7,110.90336134453783)\" font-family=\"sans-serif\" font-size=\"10px\" font-style=\"normal\" font-weight=\"400\" fill=\"black\" opacity=\"1\">6</text><text text-anchor=\"end\" transform=\"translate(-7,94.09663865546219)\" font-family=\"sans-serif\" font-size=\"10px\" font-style=\"normal\" font-weight=\"400\" fill=\"black\" opacity=\"1\">7</text><text text-anchor=\"end\" transform=\"translate(-7,77.28991596638656)\" font-family=\"sans-serif\" font-size=\"10px\" font-style=\"normal\" font-weight=\"400\" fill=\"black\" opacity=\"1\">8</text><text text-anchor=\"end\" transform=\"translate(-7,60.48319327731093)\" font-family=\"sans-serif\" font-size=\"10px\" font-style=\"normal\" font-weight=\"400\" fill=\"black\" opacity=\"1\">9</text><text text-anchor=\"end\" transform=\"translate(-7,43.6764705882353)\" font-family=\"sans-serif\" font-size=\"10px\" font-style=\"normal\" font-weight=\"400\" fill=\"black\" opacity=\"1\">10</text><text text-anchor=\"end\" transform=\"translate(-7,26.869747899159666)\" font-family=\"sans-serif\" font-size=\"10px\" font-style=\"normal\" font-weight=\"400\" fill=\"black\" opacity=\"1\">11</text><text text-anchor=\"end\" transform=\"translate(-7,10.063025210084035)\" font-family=\"sans-serif\" font-size=\"10px\" font-style=\"normal\" font-weight=\"400\" fill=\"black\" opacity=\"1\">12</text></g><g class=\"mark-rule role-axis-domain\" pointer-events=\"none\"><line transform=\"translate(0,200)\" x2=\"0\" y2=\"-200\" stroke=\"black\" stroke-width=\"1.01\" opacity=\"1\"/></g></g><path class=\"foreground\" aria-hidden=\"true\" d=\"\" pointer-events=\"none\" display=\"none\"/></g></g><g class=\"mark-group role-axis\" role=\"graphics-symbol\" aria-roledescription=\"axis\" aria-label=\"X-axis titled 'Origin=LAX' for a linear scale with values from 0.0 to 1.0\"><g transform=\"translate(0.5,0.5)\"><path class=\"background\" aria-hidden=\"true\" d=\"M0,0h0v0h0Z\" pointer-events=\"none\"/><g><g class=\"mark-text role-axis-title\" pointer-events=\"none\"><text text-anchor=\"middle\" transform=\"translate(100,-2)\" font-family=\"sans-serif\" font-size=\"10px\" font-style=\"normal\" font-weight=\"400\" fill=\"#000\" opacity=\"1\">Origin=LAX</text></g></g><path class=\"foreground\" aria-hidden=\"true\" d=\"\" pointer-events=\"none\" display=\"none\"/></g></g><g class=\"mark-group role-scope\" clip-path=\"url(#clip1)\" role=\"graphics-object\" aria-roledescription=\"group mark container\"><g transform=\"translate(0,0)\"><path class=\"background\" aria-hidden=\"true\" d=\"M0,0h0v0h0Z\"/><g><g class=\"mark-rect role-mark\" role=\"graphics-symbol\" aria-roledescription=\"rect mark container\"><path d=\"M0,184.87394957983193h2.6743075453677174v15.126050420168069h-2.6743075453677174Z\" fill=\"#4682b4\" stroke=\"white\" stroke-width=\"1\" opacity=\"1\"/><path d=\"M0,33.61344537815126h0.5751576153080412v15.126050420168069h-0.5751576153080412Z\" fill=\"#4682b4\" stroke=\"white\" stroke-width=\"1\" opacity=\"1\"/><path d=\"M0,16.80672268907563h1.648874326181165v15.126050420168069h-1.648874326181165Z\" fill=\"#4682b4\" stroke=\"white\" stroke-width=\"1\" opacity=\"1\"/><path d=\"M0,0h2.8594122319301034v15.126050420168069h-2.8594122319301034Z\" fill=\"#4682b4\" stroke=\"white\" stroke-width=\"1\" opacity=\"1\"/><path d=\"M0,168.0672268907563h2.163981726376533v15.126050420168069h-2.163981726376533Z\" fill=\"#4682b4\" stroke=\"white\" stroke-width=\"1\" opacity=\"1\"/><path d=\"M0,151.26050420168067h63.83899588833586v15.126050420168069h-63.83899588833586Z\" fill=\"#4682b4\" stroke=\"white\" stroke-width=\"1\" opacity=\"1\"/><path d=\"M0,134.45378151260505h150.54295532646046v15.126050420168069h-150.54295532646046Z\" fill=\"#4682b4\" stroke=\"white\" stroke-width=\"1\" opacity=\"1\"/><path d=\"M0,117.64705882352942h15.45993300695697v15.126050420168069h-15.45993300695697Z\" fill=\"#4682b4\" stroke=\"white\" stroke-width=\"1\" opacity=\"1\"/><path d=\"M0,100.84033613445379h0.3131728322568017v15.126050420168069h-0.3131728322568017Z\" fill=\"#4682b4\" stroke=\"white\" stroke-width=\"1\" opacity=\"1\"/><path d=\"M0,84.03361344537815h2.712331915871739v15.126050420168069h-2.712331915871739Z\" fill=\"#4682b4\" stroke=\"white\" stroke-width=\"1\" opacity=\"1\"/><path d=\"M0,67.22689075630252h2.4139756484912653v15.126050420168069h-2.4139756484912653Z\" fill=\"#4682b4\" stroke=\"white\" stroke-width=\"1\" opacity=\"1\"/><path d=\"M0,50.420168067226896h1.2100677637947725v15.126050420168069h-1.2100677637947725Z\" fill=\"#4682b4\" stroke=\"white\" stroke-width=\"1\" opacity=\"1\"/></g></g><path class=\"foreground\" aria-hidden=\"true\" d=\"\" display=\"none\"/></g></g></g><path class=\"foreground\" aria-hidden=\"true\" d=\"\" display=\"none\"/></g></g><g class=\"mark-group role-scope\" role=\"graphics-object\" aria-roledescription=\"group mark container\"><g transform=\"translate(230,0)\"><path class=\"background\" aria-hidden=\"true\" d=\"M0,0h200v200h-200Z\" stroke=\"gray\" stroke-width=\"0.1\"/><g><g class=\"mark-group role-axis\" role=\"graphics-symbol\" aria-roledescription=\"axis\" aria-label=\"X-axis for a linear scale with values from 0.0 to 0.5\"><g transform=\"translate(0.5,201.5)\"><path class=\"background\" aria-hidden=\"true\" d=\"M0,0h0v0h0Z\" pointer-events=\"none\"/><g><g class=\"mark-rule role-axis-grid\" pointer-events=\"none\"><line transform=\"translate(0,-201)\" x2=\"0\" y2=\"200\" stroke=\"lightgray\" stroke-width=\"0.5\" stroke-dasharray=\"0\" opacity=\"1\"/><line transform=\"translate(40,-201)\" x2=\"0\" y2=\"200\" stroke=\"lightgray\" stroke-width=\"0.5\" stroke-dasharray=\"0\" opacity=\"1\"/><line transform=\"translate(80,-201)\" x2=\"0\" y2=\"200\" stroke=\"lightgray\" stroke-width=\"0.5\" stroke-dasharray=\"0\" opacity=\"1\"/><line transform=\"translate(120,-201)\" x2=\"0\" y2=\"200\" stroke=\"lightgray\" stroke-width=\"0.5\" stroke-dasharray=\"0\" opacity=\"1\"/><line transform=\"translate(160,-201)\" x2=\"0\" y2=\"200\" stroke=\"lightgray\" stroke-width=\"0.5\" stroke-dasharray=\"0\" opacity=\"1\"/><line transform=\"translate(200,-201)\" x2=\"0\" y2=\"200\" stroke=\"lightgray\" stroke-width=\"0.5\" stroke-dasharray=\"0\" opacity=\"1\"/></g><g class=\"mark-rule role-axis-tick\" pointer-events=\"none\"><line transform=\"translate(0,0)\" x2=\"0\" y2=\"5\" stroke=\"black\" stroke-width=\"1.01\" opacity=\"1\"/><line transform=\"translate(40,0)\" x2=\"0\" y2=\"5\" stroke=\"black\" stroke-width=\"1.01\" opacity=\"1\"/><line transform=\"translate(80,0)\" x2=\"0\" y2=\"5\" stroke=\"black\" stroke-width=\"1.01\" opacity=\"1\"/><line transform=\"translate(120,0)\" x2=\"0\" y2=\"5\" stroke=\"black\" stroke-width=\"1.01\" opacity=\"1\"/><line transform=\"translate(160,0)\" x2=\"0\" y2=\"5\" stroke=\"black\" stroke-width=\"1.01\" opacity=\"1\"/><line transform=\"translate(200,0)\" x2=\"0\" y2=\"5\" stroke=\"black\" stroke-width=\"1.01\" opacity=\"1\"/></g><g class=\"mark-text role-axis-label\" pointer-events=\"none\"><text text-anchor=\"middle\" transform=\"translate(0,15)\" font-family=\"sans-serif\" font-size=\"10px\" font-style=\"normal\" font-weight=\"400\" fill=\"black\" opacity=\"1\">0.0</text><text text-anchor=\"middle\" transform=\"translate(40,15)\" font-family=\"sans-serif\" font-size=\"10px\" font-style=\"normal\" font-weight=\"400\" fill=\"black\" opacity=\"1\">0.1</text><text text-anchor=\"middle\" transform=\"translate(80,15)\" font-family=\"sans-serif\" font-size=\"10px\" font-style=\"normal\" font-weight=\"400\" fill=\"black\" opacity=\"1\">0.2</text><text text-anchor=\"middle\" transform=\"translate(120,15)\" font-family=\"sans-serif\" font-size=\"10px\" font-style=\"normal\" font-weight=\"400\" fill=\"black\" opacity=\"1\">0.3</text><text text-anchor=\"middle\" transform=\"translate(160,15)\" font-family=\"sans-serif\" font-size=\"10px\" font-style=\"normal\" font-weight=\"400\" fill=\"black\" opacity=\"1\">0.4</text><text text-anchor=\"middle\" transform=\"translate(200,15)\" font-family=\"sans-serif\" font-size=\"10px\" font-style=\"normal\" font-weight=\"400\" fill=\"black\" opacity=\"1\">0.5</text></g><g class=\"mark-rule role-axis-domain\" pointer-events=\"none\"><line transform=\"translate(0,0)\" x2=\"200\" y2=\"0\" stroke=\"black\" stroke-width=\"1.01\" opacity=\"1\"/></g></g><path class=\"foreground\" aria-hidden=\"true\" d=\"\" pointer-events=\"none\" display=\"none\"/></g></g><g class=\"mark-group role-axis\"><g transform=\"translate(-0.5,0.5)\"><path class=\"background\" aria-hidden=\"true\" d=\"M0,0h0v0h0Z\" pointer-events=\"none\"/><g/><path class=\"foreground\" aria-hidden=\"true\" d=\"\" pointer-events=\"none\" display=\"none\"/></g></g><g class=\"mark-group role-axis\" role=\"graphics-symbol\" aria-roledescription=\"axis\" aria-label=\"X-axis titled 'Origin=SAN' for a linear scale with values from 0.0 to 1.0\"><g transform=\"translate(0.5,0.5)\"><path class=\"background\" aria-hidden=\"true\" d=\"M0,0h0v0h0Z\" pointer-events=\"none\"/><g><g class=\"mark-text role-axis-title\" pointer-events=\"none\"><text text-anchor=\"middle\" transform=\"translate(100,-2)\" font-family=\"sans-serif\" font-size=\"10px\" font-style=\"normal\" font-weight=\"400\" fill=\"#000\" opacity=\"1\">Origin=SAN</text></g></g><path class=\"foreground\" aria-hidden=\"true\" d=\"\" pointer-events=\"none\" display=\"none\"/></g></g><g class=\"mark-group role-scope\" clip-path=\"url(#clip2)\" role=\"graphics-object\" aria-roledescription=\"group mark container\"><g transform=\"translate(0,0)\"><path class=\"background\" aria-hidden=\"true\" d=\"M0,0h0v0h0Z\"/><g><g class=\"mark-rect role-mark\" role=\"graphics-symbol\" aria-roledescription=\"rect mark container\"><path d=\"M0,184.87394957983193h3.6378226561455134v15.126050420168069h-3.6378226561455134Z\" fill=\"#4682b4\" stroke=\"white\" stroke-width=\"1\" opacity=\"1\"/><path d=\"M0,33.61344537815126h0.23276112889147513v15.126050420168069h-0.23276112889147513Z\" fill=\"#4682b4\" stroke=\"white\" stroke-width=\"1\" opacity=\"1\"/><path d=\"M0,16.80672268907563h1.363040629095675v15.126050420168069h-1.363040629095675Z\" fill=\"#4682b4\" stroke=\"white\" stroke-width=\"1\" opacity=\"1\"/><path d=\"M0,0h2.2222222222222223v15.126050420168069h-2.2222222222222223Z\" fill=\"#4682b4\" stroke=\"white\" stroke-width=\"1\" opacity=\"1\"/><path d=\"M0,168.0672268907563h2.63912794033276v15.126050420168069h-2.63912794033276Z\" fill=\"#4682b4\" stroke=\"white\" stroke-width=\"1\" opacity=\"1\"/><path d=\"M0,151.26050420168067h68.31997965153249v15.126050420168069h-68.31997965153249Z\" fill=\"#4682b4\" stroke=\"white\" stroke-width=\"1\" opacity=\"1\"/><path d=\"M0,134.45378151260505h184.0682788051209v15.126050420168069h-184.0682788051209Z\" fill=\"#4682b4\" stroke=\"white\" stroke-width=\"1\" opacity=\"1\"/><path d=\"M0,117.64705882352942h25.49800796812749v15.126050420168069h-25.49800796812749Z\" fill=\"#4682b4\" stroke=\"white\" stroke-width=\"1\" opacity=\"1\"/><path d=\"M0,100.84033613445379h0.4480955937266617v15.126050420168069h-0.4480955937266617Z\" fill=\"#4682b4\" stroke=\"white\" stroke-width=\"1\" opacity=\"1\"/><path d=\"M0,84.03361344537815h3.3857315598548974v15.126050420168069h-3.3857315598548974Z\" fill=\"#4682b4\" stroke=\"white\" stroke-width=\"1\" opacity=\"1\"/><path d=\"M0,67.22689075630252h1.366120218579235v15.126050420168069h-1.366120218579235Z\" fill=\"#4682b4\" stroke=\"white\" stroke-width=\"1\" opacity=\"1\"/><path d=\"M0,50.420168067226896h0.9688162276718135v15.126050420168069h-0.9688162276718135Z\" fill=\"#4682b4\" stroke=\"white\" stroke-width=\"1\" opacity=\"1\"/></g></g><path class=\"foreground\" aria-hidden=\"true\" d=\"\" display=\"none\"/></g></g></g><path class=\"foreground\" aria-hidden=\"true\" d=\"\" display=\"none\"/></g></g><g class=\"mark-group role-scope\" role=\"graphics-object\" aria-roledescription=\"group mark container\"><g transform=\"translate(460,0)\"><path class=\"background\" aria-hidden=\"true\" d=\"M0,0h200v200h-200Z\" stroke=\"gray\" stroke-width=\"0.1\"/><g><g class=\"mark-group role-axis\" role=\"graphics-symbol\" aria-roledescription=\"axis\" aria-label=\"X-axis for a linear scale with values from 0.0 to 0.5\"><g transform=\"translate(0.5,201.5)\"><path class=\"background\" aria-hidden=\"true\" d=\"M0,0h0v0h0Z\" pointer-events=\"none\"/><g><g class=\"mark-rule role-axis-grid\" pointer-events=\"none\"><line transform=\"translate(0,-201)\" x2=\"0\" y2=\"200\" stroke=\"lightgray\" stroke-width=\"0.5\" stroke-dasharray=\"0\" opacity=\"1\"/><line transform=\"translate(40,-201)\" x2=\"0\" y2=\"200\" stroke=\"lightgray\" stroke-width=\"0.5\" stroke-dasharray=\"0\" opacity=\"1\"/><line transform=\"translate(80,-201)\" x2=\"0\" y2=\"200\" stroke=\"lightgray\" stroke-width=\"0.5\" stroke-dasharray=\"0\" opacity=\"1\"/><line transform=\"translate(120,-201)\" x2=\"0\" y2=\"200\" stroke=\"lightgray\" stroke-width=\"0.5\" stroke-dasharray=\"0\" opacity=\"1\"/><line transform=\"translate(160,-201)\" x2=\"0\" y2=\"200\" stroke=\"lightgray\" stroke-width=\"0.5\" stroke-dasharray=\"0\" opacity=\"1\"/><line transform=\"translate(200,-201)\" x2=\"0\" y2=\"200\" stroke=\"lightgray\" stroke-width=\"0.5\" stroke-dasharray=\"0\" opacity=\"1\"/></g><g class=\"mark-rule role-axis-tick\" pointer-events=\"none\"><line transform=\"translate(0,0)\" x2=\"0\" y2=\"5\" stroke=\"black\" stroke-width=\"1.01\" opacity=\"1\"/><line transform=\"translate(40,0)\" x2=\"0\" y2=\"5\" stroke=\"black\" stroke-width=\"1.01\" opacity=\"1\"/><line transform=\"translate(80,0)\" x2=\"0\" y2=\"5\" stroke=\"black\" stroke-width=\"1.01\" opacity=\"1\"/><line transform=\"translate(120,0)\" x2=\"0\" y2=\"5\" stroke=\"black\" stroke-width=\"1.01\" opacity=\"1\"/><line transform=\"translate(160,0)\" x2=\"0\" y2=\"5\" stroke=\"black\" stroke-width=\"1.01\" opacity=\"1\"/><line transform=\"translate(200,0)\" x2=\"0\" y2=\"5\" stroke=\"black\" stroke-width=\"1.01\" opacity=\"1\"/></g><g class=\"mark-text role-axis-label\" pointer-events=\"none\"><text text-anchor=\"middle\" transform=\"translate(0,15)\" font-family=\"sans-serif\" font-size=\"10px\" font-style=\"normal\" font-weight=\"400\" fill=\"black\" opacity=\"1\">0.0</text><text text-anchor=\"middle\" transform=\"translate(40,15)\" font-family=\"sans-serif\" font-size=\"10px\" font-style=\"normal\" font-weight=\"400\" fill=\"black\" opacity=\"1\">0.1</text><text text-anchor=\"middle\" transform=\"translate(80,15)\" font-family=\"sans-serif\" font-size=\"10px\" font-style=\"normal\" font-weight=\"400\" fill=\"black\" opacity=\"1\">0.2</text><text text-anchor=\"middle\" transform=\"translate(120,15)\" font-family=\"sans-serif\" font-size=\"10px\" font-style=\"normal\" font-weight=\"400\" fill=\"black\" opacity=\"1\">0.3</text><text text-anchor=\"middle\" transform=\"translate(160,15)\" font-family=\"sans-serif\" font-size=\"10px\" font-style=\"normal\" font-weight=\"400\" fill=\"black\" opacity=\"1\">0.4</text><text text-anchor=\"middle\" transform=\"translate(200,15)\" font-family=\"sans-serif\" font-size=\"10px\" font-style=\"normal\" font-weight=\"400\" fill=\"black\" opacity=\"1\">0.5</text></g><g class=\"mark-rule role-axis-domain\" pointer-events=\"none\"><line transform=\"translate(0,0)\" x2=\"200\" y2=\"0\" stroke=\"black\" stroke-width=\"1.01\" opacity=\"1\"/></g></g><path class=\"foreground\" aria-hidden=\"true\" d=\"\" pointer-events=\"none\" display=\"none\"/></g></g><g class=\"mark-group role-axis\"><g transform=\"translate(-0.5,0.5)\"><path class=\"background\" aria-hidden=\"true\" d=\"M0,0h0v0h0Z\" pointer-events=\"none\"/><g/><path class=\"foreground\" aria-hidden=\"true\" d=\"\" pointer-events=\"none\" display=\"none\"/></g></g><g class=\"mark-group role-axis\" role=\"graphics-symbol\" aria-roledescription=\"axis\" aria-label=\"X-axis titled 'Origin=SFO' for a linear scale with values from 0.0 to 1.0\"><g transform=\"translate(0.5,0.5)\"><path class=\"background\" aria-hidden=\"true\" d=\"M0,0h0v0h0Z\" pointer-events=\"none\"/><g><g class=\"mark-text role-axis-title\" pointer-events=\"none\"><text text-anchor=\"middle\" transform=\"translate(100,-2)\" font-family=\"sans-serif\" font-size=\"10px\" font-style=\"normal\" font-weight=\"400\" fill=\"#000\" opacity=\"1\">Origin=SFO</text></g></g><path class=\"foreground\" aria-hidden=\"true\" d=\"\" pointer-events=\"none\" display=\"none\"/></g></g><g class=\"mark-group role-scope\" clip-path=\"url(#clip3)\" role=\"graphics-object\" aria-roledescription=\"group mark container\"><g transform=\"translate(0,0)\"><path class=\"background\" aria-hidden=\"true\" d=\"M0,0h0v0h0Z\"/><g><g class=\"mark-rect role-mark\" role=\"graphics-symbol\" aria-roledescription=\"rect mark container\"><path d=\"M0,184.87394957983193h4.7646886875182695v15.126050420168069h-4.7646886875182695Z\" fill=\"#4682b4\" stroke=\"white\" stroke-width=\"1\" opacity=\"1\"/><path d=\"M0,33.61344537815126h0.6437077566784679v15.126050420168069h-0.6437077566784679Z\" fill=\"#4682b4\" stroke=\"white\" stroke-width=\"1\" opacity=\"1\"/><path d=\"M0,16.80672268907563h0.9177318911832186v15.126050420168069h-0.9177318911832186Z\" fill=\"#4682b4\" stroke=\"white\" stroke-width=\"1\" opacity=\"1\"/><path d=\"M0,0h3.2929782082324457v15.126050420168069h-3.2929782082324457Z\" fill=\"#4682b4\" stroke=\"white\" stroke-width=\"1\" opacity=\"1\"/><path d=\"M0,168.0672268907563h3.182696021629973v15.126050420168069h-3.182696021629973Z\" fill=\"#4682b4\" stroke=\"white\" stroke-width=\"1\" opacity=\"1\"/><path d=\"M0,151.26050420168067h73.47687963289799v15.126050420168069h-73.47687963289799Z\" fill=\"#4682b4\" stroke=\"white\" stroke-width=\"1\" opacity=\"1\"/><path d=\"M0,134.45378151260505h147.26588443657295v15.126050420168069h-147.26588443657295Z\" fill=\"#4682b4\" stroke=\"white\" stroke-width=\"1\" opacity=\"1\"/><path d=\"M0,117.64705882352942h11.553273427471117v15.126050420168069h-11.553273427471117Z\" fill=\"#4682b4\" stroke=\"white\" stroke-width=\"1\" opacity=\"1\"/><path d=\"M0,100.84033613445379h1.0116337885685383v15.126050420168069h-1.0116337885685383Z\" fill=\"#4682b4\" stroke=\"white\" stroke-width=\"1\" opacity=\"1\"/><path d=\"M0,84.03361344537815h2.92873413602343v15.126050420168069h-2.92873413602343Z\" fill=\"#4682b4\" stroke=\"white\" stroke-width=\"1\" opacity=\"1\"/><path d=\"M0,67.22689075630252h5.544432465732327v15.126050420168069h-5.544432465732327Z\" fill=\"#4682b4\" stroke=\"white\" stroke-width=\"1\" opacity=\"1\"/><path d=\"M0,50.420168067226896h3.4112229234180456v15.126050420168069h-3.4112229234180456Z\" fill=\"#4682b4\" stroke=\"white\" stroke-width=\"1\" opacity=\"1\"/></g></g><path class=\"foreground\" aria-hidden=\"true\" d=\"\" display=\"none\"/></g></g></g><path class=\"foreground\" aria-hidden=\"true\" d=\"\" display=\"none\"/></g></g></g><path class=\"foreground\" aria-hidden=\"true\" d=\"\" display=\"none\"/></g></g></g><path class=\"foreground\" aria-hidden=\"true\" d=\"\" display=\"none\"/></g></g></g><defs><clipPath id=\"clip1\"><rect x=\"0\" y=\"0\" width=\"200\" height=\"200\"/></clipPath><clipPath id=\"clip2\"><rect x=\"0\" y=\"0\" width=\"200\" height=\"200\"/></clipPath><clipPath id=\"clip3\"><rect x=\"0\" y=\"0\" width=\"200\" height=\"200\"/></clipPath></defs></svg>"
      ],
      "text/plain": []
     },
     "execution_count": 28,
     "metadata": {},
     "output_type": "execute_result"
    }
   ],
   "source": [
    "using StatisticalGraphics\n",
    "@chain flights begin\n",
    "    filter(:Origin, by = in([\"LAX\", \"SFO\", \"SAN\"]))\n",
    "    groupby(:Origin)\n",
    "    sgplot(Bar(y=:FlightDate, response=:Cancelled, stat=IMD.mean),\n",
    "        xaxis=Axis(title=\"Rate\", grid=true),\n",
    "        yaxis=Axis(title=\"Month\", order=:ascending),\n",
    "            width=200, layout=:row)\n",
    "end"
   ]
  },
  {
   "cell_type": "code",
   "execution_count": null,
   "metadata": {},
   "outputs": [],
   "source": []
  }
 ],
 "metadata": {
  "kernelspec": {
   "display_name": "Julia 1.8.5",
   "language": "julia",
   "name": "julia-1.8"
  },
  "language_info": {
   "file_extension": ".jl",
   "mimetype": "application/julia",
   "name": "julia",
   "version": "1.8.5"
  }
 },
 "nbformat": 4,
 "nbformat_minor": 4
}
